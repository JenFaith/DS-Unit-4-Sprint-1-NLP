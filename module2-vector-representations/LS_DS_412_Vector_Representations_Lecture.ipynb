{
 "cells": [
  {
   "cell_type": "markdown",
   "metadata": {},
   "source": [
    "---"
   ]
  },
  {
   "cell_type": "markdown",
   "metadata": {},
   "source": [
    "Lambda School Data Science\n",
    "\n",
    "*Unit 4, Sprint 1, Module 2*\n",
    "\n",
    "---\n",
    "\n",
    "# Vector Representations (Prepare)\n",
    "\n",
    "\n",
    "As we learned yesterday, machines cannot interpret raw text. We need to transform that text into something we/machines can more readily analyze. Yesterday, we did simple counts of counts to summarize the content of Amazon reviews. Today, we'll extend those concepts to talk about vector representations such as Bag of Words (BoW) and word embedding models. We'll use those representations for search, visualization, and prepare for our classification day tomorrow. \n",
    "\n",
    "Processing text data to prepare it for machine learning models often means translating the information from documents into a numerical format. Bag-of-Words approaches (sometimes referred to as Frequency-Based word embeddings) accomplish this by \"vectorizing\" tokenized documents. This is done by representing each document as a row in a DataFrame and creating a column for each unique word in the corpora (group of documents). The presence or lack of a given word in a document is then represented either as a raw count of how many times a given word appears in a document (CountVectorizer) or as that word's TF-IDF score (TfidfVectorizer).\n",
    "\n",
    "On the python side, we will be focusing on `sklearn` and `spacy` today.  \n",
    "\n",
    "## Case Study\n",
    "\n",
    "We're going to pretend we're on the datascience team at the BBC. We want to recommend articles to visitors to on the BBC website based on the article they just read. Our team wants \n",
    "\n",
    "**Dataset:**\n",
    "\n",
    "[D. Greene and P. Cunningham. \"Practical Solutions to the Problem of Diagonal Dominance in Kernel Document Clustering\", Proc. ICML 2006.](http://mlg.ucd.ie/datasets/bbc.html)\n",
    "*Please note that the dataset has been sampled down to tech articles only.* \n",
    "\n",
    "## Learning Objectives\n",
    "* <a href=\"#p1\">Part 1</a>: Represent a document as a vector\n",
    "* <a href=\"#p2\">Part 2</a>: Query Documents by Similarity\n",
    "* <a href=\"#p3\">Part 3</a>: Apply word embedding models to create document vectors"
   ]
  },
  {
   "cell_type": "markdown",
   "metadata": {},
   "source": [
    "### Let's start with an analogy\n",
    "\n",
    "![](https://peterbeshai.com/static/d9c3868cc1becd7648da453597a5d616/36dbb/DER_cube.jpg)\n",
    "\n",
    "Pretend that the objecting floating in the room is our raw text dataset (i.e. a collection of documents). \n",
    "\n",
    "A vectorizer is a mathamatical transformation that takes our raw text data and transforms it into a numerical representation (i.e. numbers inside of vectors). \n",
    "\n",
    "Depending on which vectorizer you use, you will be capturing some of the information encoded in the text but not other information. \n",
    "\n",
    "So as the analogy goes, depending which side of the floating object you stand and shine a light from, you will only see a portion of the information that exists in your text data set. Apply one vectorizer and you'll get word counts but not the contextual meaning; apply another vectorizer and you'll get the contextual meaning of the words but not the counts. \n",
    "\n",
    "**Take Away:** Understand the benefits and limitations of using each of the vectorizers that we'll be learning today. \n",
    "\n",
    "----"
   ]
  },
  {
   "cell_type": "markdown",
   "metadata": {},
   "source": [
    "# Represent a document as a vector (Learn)\n",
    "<a id=\"p1\"></a>"
   ]
  },
  {
   "cell_type": "markdown",
   "metadata": {},
   "source": [
    "## Overview\n",
    "\n",
    "In this section, we are going to create Document Term Matrices (DTM). Each column represents a word. Each row represents a document. The value in each cell can be range of different things. The most traditional: counts of appearances of words, does the word appear at all (binary), and term-frequency inverse-document frequency (TF-IDF). \n",
    "\n",
    "**Discussion:** Don't we loose all the context and grammar if we do this? So Why does it work?"
   ]
  },
  {
   "cell_type": "markdown",
   "metadata": {
    "toc-hr-collapsed": true
   },
   "source": [
    "## Follow Along"
   ]
  },
  {
   "cell_type": "code",
   "execution_count": 19,
   "metadata": {},
   "outputs": [],
   "source": [
    "\"\"\" Import Statements \"\"\"\n",
    "\n",
    "# Classics\n",
    "import pandas as pd\n",
    "import seaborn as sns\n",
    "import matplotlib.pyplot as plt\n",
    "import numpy as np\n",
    "\n",
    "from sklearn.feature_extraction.text import CountVectorizer, TfidfVectorizer\n",
    "from sklearn.metrics.pairwise import cosine_similarity\n",
    "from sklearn.neighbors import NearestNeighbors\n",
    "from sklearn.decomposition import PCA\n",
    "\n",
    "import spacy\n",
    "nlp = spacy.load(\"en_core_web_lg\")"
   ]
  },
  {
   "cell_type": "markdown",
   "metadata": {},
   "source": [
    "**Warm Up (_3 Minutes_)**\n",
    "\n",
    "Extract the tokens from this sentence using Spacy. Text is from [OpenAI](https://openai.com/blog/better-language-models/)"
   ]
  },
  {
   "cell_type": "code",
   "execution_count": 20,
   "metadata": {},
   "outputs": [],
   "source": [
    "text = \"\"\"GPT-2 displays a broad set of capabilities, including the ability to generate conditional synthetic text samples of unprecedented quality, where we prime the model with an input and have it generate a lengthy continuation. In addition, GPT-2 outperforms other language models trained on specific domains (like Wikipedia, news, or books) without needing to use these domain-specific training datasets. On language tasks like question answering, reading comprehension, summarization, and translation, GPT-2 begins to learn these tasks from the raw text, using no task-specific training data. While scores on these downstream tasks are far from state-of-the-art, they suggest that the tasks can benefit from unsupervised techniques, given sufficient (unlabeled) data and compute.\"\"\""
   ]
  },
  {
   "cell_type": "code",
   "execution_count": 21,
   "metadata": {},
   "outputs": [
    {
     "data": {
      "text/plain": [
       "'GPT-2 displays a broad set of capabilities, including the ability to generate conditional synthetic text samples of unprecedented quality, where we prime the model with an input and have it generate a lengthy continuation. In addition, GPT-2 outperforms other language models trained on specific domains (like Wikipedia, news, or books) without needing to use these domain-specific training datasets. On language tasks like question answering, reading comprehension, summarization, and translation, GPT-2 begins to learn these tasks from the raw text, using no task-specific training data. While scores on these downstream tasks are far from state-of-the-art, they suggest that the tasks can benefit from unsupervised techniques, given sufficient (unlabeled) data and compute.'"
      ]
     },
     "execution_count": 21,
     "metadata": {},
     "output_type": "execute_result"
    }
   ],
   "source": [
    "text"
   ]
  },
  {
   "cell_type": "code",
   "execution_count": 26,
   "metadata": {
    "deletable": false,
    "nbgrader": {
     "cell_type": "code",
     "checksum": "21108a65ea86a234118bdede0d48717b",
     "grade": false,
     "grade_id": "cell-58c44a23c3dcfc31",
     "locked": false,
     "schema_version": 3,
     "solution": true,
     "task": false
    }
   },
   "outputs": [],
   "source": [
    "# use the spacy pre-trained model to tokenize the dummy article\n",
    "# lost? remview the portion from yesterday's lecture where we used the nlp model to create tokens =) \n",
    "\n",
    "# nlp model will tokenize and flag what kind of tokens there are (i.e. is it a white space, punct, etc ..)\n",
    "doc = nlp(text)\n",
    "\n",
    "tokens = []\n",
    "\n",
    "for token in doc:\n",
    "    if (token.is_stop != True) and (token.is_punct !=True):\n",
    "        tokens.append(token.lemma_.lower())         "
   ]
  },
  {
   "cell_type": "code",
   "execution_count": 28,
   "metadata": {},
   "outputs": [
    {
     "data": {
      "text/plain": [
       "['gpt-2', 'display', 'broad', 'set', 'capability']"
      ]
     },
     "execution_count": 28,
     "metadata": {},
     "output_type": "execute_result"
    }
   ],
   "source": [
    "tokens[:5]"
   ]
  },
  {
   "cell_type": "code",
   "execution_count": 29,
   "metadata": {},
   "outputs": [],
   "source": [
    "import os \n",
    "\n",
    "def gather_data(filefolder):\n",
    "    \"\"\" \n",
    "    Produces List of Documents from a Directory\n",
    "    \n",
    "    filefolder (str): a path of .txt files\n",
    "    \n",
    "    returns list of strings \n",
    "    \"\"\"\n",
    "    \n",
    "    data = []\n",
    "    \n",
    "    files = os.listdir(filefolder) # Causes variation across machines\n",
    "    \n",
    "    for article in files: \n",
    "        \n",
    "        path = os.path.join(filefolder, article)\n",
    "                    \n",
    "        if  path[-3:] == 'txt': # os ~endswith('txt')\n",
    "            with open(path, 'rb') as f:\n",
    "                data.append(f.read())\n",
    "    \n",
    "    return data"
   ]
  },
  {
   "cell_type": "code",
   "execution_count": 30,
   "metadata": {},
   "outputs": [],
   "source": [
    "data = gather_data('./data')"
   ]
  },
  {
   "cell_type": "code",
   "execution_count": 31,
   "metadata": {},
   "outputs": [
    {
     "data": {
      "text/plain": [
       "list"
      ]
     },
     "execution_count": 31,
     "metadata": {},
     "output_type": "execute_result"
    }
   ],
   "source": [
    "type(data)"
   ]
  },
  {
   "cell_type": "code",
   "execution_count": 33,
   "metadata": {},
   "outputs": [
    {
     "data": {
      "text/plain": [
       "b'Speak easy plan for media players\\n\\nMusic and film fans will be able to control their digital media players just by speaking to them, under plans in development by two US firms.\\n\\nScanSoft and Gracenote are developing technology to give people access to their film and music libraries simply by voice control. They want to give people hands-free access to digital music and films in the car, or at home or on the move. Huge media libraries on some players can make finding single songs hard. \"Voice command-and-control unlocks the potential of devices that can store large digital music collections,\" said Ross Blanchard, vice president of business development for Gracenote. \"These applications will radically change the car entertainment experience, allowing drivers to enjoy their entire music collections without ever taking their hands off the steering wheel,\" he added.\\n\\nGracenote provides music library information for millions of different albums for jukeboxes such as Apple\\'s iTunes. The new technology will be designed so that people can play any individual song or movie out of a collection, just by saying its name. Users will also be able to request music that fits a mood or an occasion, or a film just by saying the actor\\'s name. \"Speech is a natural fit for today\\'s consumer devices, particularly in mobile environments,\" said Alan Schwartz, vice president of SpeechWorks, a division of ScanSoft. \"Pairing our voice technologies with Gracenote\\'s vast music database will bring the benefits of speech technologies to a host of consumer devices and enable people to access their media in ways they\\'ve never imagined.\" The two firms did not say if they were developing the technology for languages other than English. Users will also be able to get more information on a favourite song they have been listening to by asking: \"What is this?\" Portable players are becoming popular in cars and a number of auto firms are working with Apple to device interfaces to control the firm\\'s iPod music player. But with tens of thousands of songs able to be stored on one player, voice control would make finding that elusive track by Elvis Presley much easier. The firms gave no indication about whether the iPod, or any other media player, were in mind for the use of the voice control technology. The companies estimate that the technology will be available in the fourth quarter of 2005.\\n'"
      ]
     },
     "execution_count": 33,
     "metadata": {},
     "output_type": "execute_result"
    }
   ],
   "source": [
    "# a sample of our dataset/corpus \n",
    "data[10]"
   ]
  },
  {
   "cell_type": "markdown",
   "metadata": {},
   "source": [
    "### CountVectorizer\n",
    "\n",
    "![](https://images4.programmersought.com/947/0a/0acb9279d17a1631bcfb154583cca443.JPEG)"
   ]
  },
  {
   "cell_type": "code",
   "execution_count": 53,
   "metadata": {
    "deletable": false,
    "nbgrader": {
     "cell_type": "code",
     "checksum": "52cdea7487759eb9a9c010ef2dee663a",
     "grade": false,
     "grade_id": "cell-c6a74f21ed3917ee",
     "locked": false,
     "schema_version": 3,
     "solution": true,
     "task": false
    }
   },
   "outputs": [],
   "source": [
    "from sklearn.feature_extraction.text import CountVectorizer\n",
    "\n",
    "\n",
    "# list of text documents\n",
    "text = [\"We created a new dataset which emphasizes diversity of content, by scraping content from the Internet.\",\n",
    "        \"In order to preserve document quality, we used only pages which have been curated/filtered by humans—specifically, we used outbound links from Reddit which received at least 3 karma.\",\n",
    "        \"This can be thought of as a heuristic indicator for whether other users found the link interesting (whether educational or funny), leading to higher data quality than other similar datasets, such as CommonCrawl.\"]\n",
    "\n",
    "# create the transformer\n",
    "vect = CountVectorizer()\n",
    "\n",
    "# build vocab\n",
    "vect.fit(text);\n",
    "\n",
    "# transform text\n",
    "dtm = vect.transform(text)"
   ]
  },
  {
   "cell_type": "code",
   "execution_count": 54,
   "metadata": {},
   "outputs": [
    {
     "data": {
      "text/plain": [
       "61"
      ]
     },
     "execution_count": 54,
     "metadata": {},
     "output_type": "execute_result"
    }
   ],
   "source": [
    "# explore the document-term matrix \n",
    "\n",
    "# Get feature names\n",
    "len(vect.get_feature_names())"
   ]
  },
  {
   "cell_type": "code",
   "execution_count": 55,
   "metadata": {},
   "outputs": [
    {
     "data": {
      "text/plain": [
       "<3x61 sparse matrix of type '<class 'numpy.int64'>'\n",
       "\twith 69 stored elements in Compressed Sparse Row format>"
      ]
     },
     "execution_count": 55,
     "metadata": {},
     "output_type": "execute_result"
    }
   ],
   "source": [
    "dtm"
   ]
  },
  {
   "cell_type": "code",
   "execution_count": 56,
   "metadata": {
    "collapsed": true
   },
   "outputs": [
    {
     "name": "stdout",
     "output_type": "stream",
     "text": [
      "  (0, 4)\t1\n",
      "  (0, 7)\t2\n",
      "  (0, 8)\t1\n",
      "  (0, 11)\t1\n",
      "  (0, 13)\t1\n",
      "  (0, 16)\t1\n",
      "  (0, 20)\t1\n",
      "  (0, 29)\t1\n",
      "  (0, 35)\t1\n",
      "  (0, 36)\t1\n",
      "  (0, 47)\t1\n",
      "  (0, 52)\t1\n",
      "  (0, 58)\t1\n",
      "  (0, 60)\t1\n",
      "  (1, 1)\t1\n",
      "  (1, 3)\t1\n",
      "  (1, 4)\t1\n",
      "  (1, 9)\t1\n",
      "  (1, 14)\t1\n",
      "  (1, 17)\t1\n",
      "  (1, 20)\t1\n",
      "  (1, 22)\t1\n",
      "  (1, 25)\t1\n",
      "  (1, 26)\t1\n",
      "  (1, 30)\t1\n",
      "  :\t:\n",
      "  (2, 10)\t1\n",
      "  (2, 12)\t1\n",
      "  (2, 15)\t1\n",
      "  (2, 18)\t1\n",
      "  (2, 19)\t1\n",
      "  (2, 21)\t1\n",
      "  (2, 23)\t1\n",
      "  (2, 24)\t1\n",
      "  (2, 27)\t1\n",
      "  (2, 28)\t1\n",
      "  (2, 31)\t1\n",
      "  (2, 33)\t1\n",
      "  (2, 36)\t1\n",
      "  (2, 38)\t1\n",
      "  (2, 40)\t2\n",
      "  (2, 44)\t1\n",
      "  (2, 48)\t1\n",
      "  (2, 50)\t1\n",
      "  (2, 51)\t1\n",
      "  (2, 52)\t1\n",
      "  (2, 53)\t1\n",
      "  (2, 54)\t1\n",
      "  (2, 55)\t1\n",
      "  (2, 57)\t1\n",
      "  (2, 59)\t2\n"
     ]
    }
   ],
   "source": [
    "print(dtm)"
   ]
  },
  {
   "cell_type": "code",
   "execution_count": 57,
   "metadata": {},
   "outputs": [
    {
     "data": {
      "text/plain": [
       "'We created a new dataset which emphasizes diversity of content, by scraping content from the Internet.'"
      ]
     },
     "execution_count": 57,
     "metadata": {},
     "output_type": "execute_result"
    }
   ],
   "source": [
    "# print out raw text for comparison with  indexing \n",
    "text[0]"
   ]
  },
  {
   "cell_type": "code",
   "execution_count": 58,
   "metadata": {},
   "outputs": [
    {
     "data": {
      "text/plain": [
       "array([[0, 0, 0, 0, 1, 0, 0, 2, 1, 0, 0, 1, 0, 1, 0, 0, 1, 0, 0, 0, 1, 0,\n",
       "        0, 0, 0, 0, 0, 0, 0, 1, 0, 0, 0, 0, 0, 1, 1, 0, 0, 0, 0, 0, 0, 0,\n",
       "        0, 0, 0, 1, 0, 0, 0, 0, 1, 0, 0, 0, 0, 0, 1, 0, 1],\n",
       "       [0, 1, 0, 1, 1, 0, 0, 0, 0, 1, 0, 0, 0, 0, 1, 0, 0, 1, 0, 0, 1, 0,\n",
       "        1, 0, 0, 1, 1, 0, 0, 0, 1, 0, 1, 0, 1, 0, 0, 1, 0, 1, 0, 1, 1, 1,\n",
       "        1, 1, 1, 0, 0, 1, 0, 0, 0, 0, 0, 1, 2, 0, 2, 0, 2],\n",
       "       [2, 0, 1, 0, 0, 1, 1, 0, 0, 0, 1, 0, 1, 0, 0, 1, 0, 0, 1, 1, 0, 1,\n",
       "        0, 1, 1, 0, 0, 1, 1, 0, 0, 1, 0, 1, 0, 0, 1, 0, 1, 0, 2, 0, 0, 0,\n",
       "        1, 0, 0, 0, 1, 0, 1, 1, 1, 1, 1, 1, 0, 1, 0, 2, 0]])"
      ]
     },
     "execution_count": 58,
     "metadata": {},
     "output_type": "execute_result"
    }
   ],
   "source": [
    "# this is the bag-of-words representation of our dataset \n",
    "# these are the doc vectors \n",
    "dtm.toarray()"
   ]
  },
  {
   "cell_type": "code",
   "execution_count": 59,
   "metadata": {},
   "outputs": [],
   "source": [
    "dtm = pd.DataFrame(data=dtm.toarray(), columns=vect.get_feature_names())"
   ]
  },
  {
   "cell_type": "code",
   "execution_count": 60,
   "metadata": {},
   "outputs": [
    {
     "data": {
      "text/html": [
       "<div>\n",
       "<style scoped>\n",
       "    .dataframe tbody tr th:only-of-type {\n",
       "        vertical-align: middle;\n",
       "    }\n",
       "\n",
       "    .dataframe tbody tr th {\n",
       "        vertical-align: top;\n",
       "    }\n",
       "\n",
       "    .dataframe thead th {\n",
       "        text-align: right;\n",
       "    }\n",
       "</style>\n",
       "<table border=\"1\" class=\"dataframe\">\n",
       "  <thead>\n",
       "    <tr style=\"text-align: right;\">\n",
       "      <th></th>\n",
       "      <th>as</th>\n",
       "      <th>at</th>\n",
       "      <th>be</th>\n",
       "      <th>been</th>\n",
       "      <th>by</th>\n",
       "      <th>can</th>\n",
       "      <th>commoncrawl</th>\n",
       "      <th>content</th>\n",
       "      <th>created</th>\n",
       "      <th>curated</th>\n",
       "      <th>...</th>\n",
       "      <th>than</th>\n",
       "      <th>the</th>\n",
       "      <th>this</th>\n",
       "      <th>thought</th>\n",
       "      <th>to</th>\n",
       "      <th>used</th>\n",
       "      <th>users</th>\n",
       "      <th>we</th>\n",
       "      <th>whether</th>\n",
       "      <th>which</th>\n",
       "    </tr>\n",
       "  </thead>\n",
       "  <tbody>\n",
       "    <tr>\n",
       "      <th>0</th>\n",
       "      <td>0</td>\n",
       "      <td>0</td>\n",
       "      <td>0</td>\n",
       "      <td>0</td>\n",
       "      <td>1</td>\n",
       "      <td>0</td>\n",
       "      <td>0</td>\n",
       "      <td>2</td>\n",
       "      <td>1</td>\n",
       "      <td>0</td>\n",
       "      <td>...</td>\n",
       "      <td>0</td>\n",
       "      <td>1</td>\n",
       "      <td>0</td>\n",
       "      <td>0</td>\n",
       "      <td>0</td>\n",
       "      <td>0</td>\n",
       "      <td>0</td>\n",
       "      <td>1</td>\n",
       "      <td>0</td>\n",
       "      <td>1</td>\n",
       "    </tr>\n",
       "    <tr>\n",
       "      <th>1</th>\n",
       "      <td>0</td>\n",
       "      <td>1</td>\n",
       "      <td>0</td>\n",
       "      <td>1</td>\n",
       "      <td>1</td>\n",
       "      <td>0</td>\n",
       "      <td>0</td>\n",
       "      <td>0</td>\n",
       "      <td>0</td>\n",
       "      <td>1</td>\n",
       "      <td>...</td>\n",
       "      <td>0</td>\n",
       "      <td>0</td>\n",
       "      <td>0</td>\n",
       "      <td>0</td>\n",
       "      <td>1</td>\n",
       "      <td>2</td>\n",
       "      <td>0</td>\n",
       "      <td>2</td>\n",
       "      <td>0</td>\n",
       "      <td>2</td>\n",
       "    </tr>\n",
       "    <tr>\n",
       "      <th>2</th>\n",
       "      <td>2</td>\n",
       "      <td>0</td>\n",
       "      <td>1</td>\n",
       "      <td>0</td>\n",
       "      <td>0</td>\n",
       "      <td>1</td>\n",
       "      <td>1</td>\n",
       "      <td>0</td>\n",
       "      <td>0</td>\n",
       "      <td>0</td>\n",
       "      <td>...</td>\n",
       "      <td>1</td>\n",
       "      <td>1</td>\n",
       "      <td>1</td>\n",
       "      <td>1</td>\n",
       "      <td>1</td>\n",
       "      <td>0</td>\n",
       "      <td>1</td>\n",
       "      <td>0</td>\n",
       "      <td>2</td>\n",
       "      <td>0</td>\n",
       "    </tr>\n",
       "  </tbody>\n",
       "</table>\n",
       "<p>3 rows × 61 columns</p>\n",
       "</div>"
      ],
      "text/plain": [
       "   as  at  be  been  by  can  commoncrawl  content  created  curated  ...  \\\n",
       "0   0   0   0     0   1    0            0        2        1        0  ...   \n",
       "1   0   1   0     1   1    0            0        0        0        1  ...   \n",
       "2   2   0   1     0   0    1            1        0        0        0  ...   \n",
       "\n",
       "   than  the  this  thought  to  used  users  we  whether  which  \n",
       "0     0    1     0        0   0     0      0   1        0      1  \n",
       "1     0    0     0        0   1     2      0   2        0      2  \n",
       "2     1    1     1        1   1     0      1   0        2      0  \n",
       "\n",
       "[3 rows x 61 columns]"
      ]
     },
     "execution_count": 60,
     "metadata": {},
     "output_type": "execute_result"
    }
   ],
   "source": [
    "# doc-term matrix \n",
    "# this dtm is in a format that we can pass into an ML model =)\n",
    "dtm.head()"
   ]
  },
  {
   "cell_type": "code",
   "execution_count": null,
   "metadata": {
    "deletable": false,
    "nbgrader": {
     "cell_type": "code",
     "checksum": "b643c1a5b8797cc327b062bc1785b1d3",
     "grade": false,
     "grade_id": "cell-93323028a4bfd7e7",
     "locked": false,
     "schema_version": 3,
     "solution": true,
     "task": false
    }
   },
   "outputs": [],
   "source": []
  },
  {
   "cell_type": "markdown",
   "metadata": {},
   "source": [
    "**Three Minute Challenge:** \n",
    "* Apply CountVectorizer to our BBC Data\n",
    "* Store results in a dataframe called `dtm`\n",
    "* Extra Challenge - Try to Customize CountVectorizer with Spacy Processing"
   ]
  },
  {
   "cell_type": "code",
   "execution_count": 61,
   "metadata": {},
   "outputs": [
    {
     "data": {
      "text/plain": [
       "list"
      ]
     },
     "execution_count": 61,
     "metadata": {},
     "output_type": "execute_result"
    }
   ],
   "source": [
    "# BBC data set \n",
    "type(data)"
   ]
  },
  {
   "cell_type": "code",
   "execution_count": 68,
   "metadata": {
    "deletable": false,
    "nbgrader": {
     "cell_type": "code",
     "checksum": "a4ac8970215fdb46a14765a414991e5d",
     "grade": false,
     "grade_id": "cell-3a7cd500efe1978b",
     "locked": false,
     "schema_version": 3,
     "solution": true,
     "task": false
    }
   },
   "outputs": [],
   "source": [
    "# Apply CountVectorizer to our Data\n",
    "# Use custom Spacy Vectorizer\n",
    "# BBC articles in `data` variable\n",
    "\n",
    "from sklearn.feature_extraction.text import CountVectorizer\n",
    "\n",
    "# Learn our Vocab\n",
    "vect = CountVectorizer(stop_words=\"english\", \n",
    "                       max_features=1000)\n",
    "\n",
    "vect.fit(data);\n",
    "\n",
    "# Get sparse dtm (i.e. transform the data)\n",
    "dtm = vect.transform(data)\n",
    "dtm = pd.DataFrame(data=dtm.toarray(), columns=vect.get_feature_names())"
   ]
  },
  {
   "cell_type": "code",
   "execution_count": 69,
   "metadata": {},
   "outputs": [
    {
     "data": {
      "text/html": [
       "<div>\n",
       "<style scoped>\n",
       "    .dataframe tbody tr th:only-of-type {\n",
       "        vertical-align: middle;\n",
       "    }\n",
       "\n",
       "    .dataframe tbody tr th {\n",
       "        vertical-align: top;\n",
       "    }\n",
       "\n",
       "    .dataframe thead th {\n",
       "        text-align: right;\n",
       "    }\n",
       "</style>\n",
       "<table border=\"1\" class=\"dataframe\">\n",
       "  <thead>\n",
       "    <tr style=\"text-align: right;\">\n",
       "      <th></th>\n",
       "      <th>000</th>\n",
       "      <th>10</th>\n",
       "      <th>100</th>\n",
       "      <th>11</th>\n",
       "      <th>12</th>\n",
       "      <th>14</th>\n",
       "      <th>15</th>\n",
       "      <th>18</th>\n",
       "      <th>20</th>\n",
       "      <th>200</th>\n",
       "      <th>...</th>\n",
       "      <th>worldwide</th>\n",
       "      <th>worm</th>\n",
       "      <th>worth</th>\n",
       "      <th>writing</th>\n",
       "      <th>xbox</th>\n",
       "      <th>xp</th>\n",
       "      <th>yahoo</th>\n",
       "      <th>year</th>\n",
       "      <th>years</th>\n",
       "      <th>york</th>\n",
       "    </tr>\n",
       "  </thead>\n",
       "  <tbody>\n",
       "    <tr>\n",
       "      <th>0</th>\n",
       "      <td>1</td>\n",
       "      <td>2</td>\n",
       "      <td>0</td>\n",
       "      <td>0</td>\n",
       "      <td>0</td>\n",
       "      <td>0</td>\n",
       "      <td>0</td>\n",
       "      <td>1</td>\n",
       "      <td>3</td>\n",
       "      <td>0</td>\n",
       "      <td>...</td>\n",
       "      <td>0</td>\n",
       "      <td>0</td>\n",
       "      <td>0</td>\n",
       "      <td>0</td>\n",
       "      <td>0</td>\n",
       "      <td>0</td>\n",
       "      <td>0</td>\n",
       "      <td>0</td>\n",
       "      <td>4</td>\n",
       "      <td>1</td>\n",
       "    </tr>\n",
       "    <tr>\n",
       "      <th>1</th>\n",
       "      <td>0</td>\n",
       "      <td>0</td>\n",
       "      <td>0</td>\n",
       "      <td>1</td>\n",
       "      <td>0</td>\n",
       "      <td>0</td>\n",
       "      <td>0</td>\n",
       "      <td>1</td>\n",
       "      <td>0</td>\n",
       "      <td>0</td>\n",
       "      <td>...</td>\n",
       "      <td>0</td>\n",
       "      <td>0</td>\n",
       "      <td>0</td>\n",
       "      <td>0</td>\n",
       "      <td>0</td>\n",
       "      <td>0</td>\n",
       "      <td>0</td>\n",
       "      <td>2</td>\n",
       "      <td>0</td>\n",
       "      <td>0</td>\n",
       "    </tr>\n",
       "    <tr>\n",
       "      <th>2</th>\n",
       "      <td>3</td>\n",
       "      <td>0</td>\n",
       "      <td>0</td>\n",
       "      <td>0</td>\n",
       "      <td>0</td>\n",
       "      <td>0</td>\n",
       "      <td>0</td>\n",
       "      <td>0</td>\n",
       "      <td>1</td>\n",
       "      <td>0</td>\n",
       "      <td>...</td>\n",
       "      <td>0</td>\n",
       "      <td>0</td>\n",
       "      <td>0</td>\n",
       "      <td>0</td>\n",
       "      <td>1</td>\n",
       "      <td>0</td>\n",
       "      <td>0</td>\n",
       "      <td>2</td>\n",
       "      <td>2</td>\n",
       "      <td>0</td>\n",
       "    </tr>\n",
       "    <tr>\n",
       "      <th>3</th>\n",
       "      <td>0</td>\n",
       "      <td>0</td>\n",
       "      <td>0</td>\n",
       "      <td>0</td>\n",
       "      <td>0</td>\n",
       "      <td>0</td>\n",
       "      <td>0</td>\n",
       "      <td>0</td>\n",
       "      <td>0</td>\n",
       "      <td>0</td>\n",
       "      <td>...</td>\n",
       "      <td>0</td>\n",
       "      <td>0</td>\n",
       "      <td>0</td>\n",
       "      <td>0</td>\n",
       "      <td>0</td>\n",
       "      <td>0</td>\n",
       "      <td>0</td>\n",
       "      <td>0</td>\n",
       "      <td>0</td>\n",
       "      <td>0</td>\n",
       "    </tr>\n",
       "    <tr>\n",
       "      <th>4</th>\n",
       "      <td>0</td>\n",
       "      <td>0</td>\n",
       "      <td>0</td>\n",
       "      <td>0</td>\n",
       "      <td>0</td>\n",
       "      <td>0</td>\n",
       "      <td>0</td>\n",
       "      <td>0</td>\n",
       "      <td>0</td>\n",
       "      <td>0</td>\n",
       "      <td>...</td>\n",
       "      <td>0</td>\n",
       "      <td>0</td>\n",
       "      <td>0</td>\n",
       "      <td>0</td>\n",
       "      <td>0</td>\n",
       "      <td>0</td>\n",
       "      <td>0</td>\n",
       "      <td>0</td>\n",
       "      <td>1</td>\n",
       "      <td>0</td>\n",
       "    </tr>\n",
       "  </tbody>\n",
       "</table>\n",
       "<p>5 rows × 1000 columns</p>\n",
       "</div>"
      ],
      "text/plain": [
       "   000  10  100  11  12  14  15  18  20  200  ...  worldwide  worm  worth  \\\n",
       "0    1   2    0   0   0   0   0   1   3    0  ...          0     0      0   \n",
       "1    0   0    0   1   0   0   0   1   0    0  ...          0     0      0   \n",
       "2    3   0    0   0   0   0   0   0   1    0  ...          0     0      0   \n",
       "3    0   0    0   0   0   0   0   0   0    0  ...          0     0      0   \n",
       "4    0   0    0   0   0   0   0   0   0    0  ...          0     0      0   \n",
       "\n",
       "   writing  xbox  xp  yahoo  year  years  york  \n",
       "0        0     0   0      0     0      4     1  \n",
       "1        0     0   0      0     2      0     0  \n",
       "2        0     1   0      0     2      2     0  \n",
       "3        0     0   0      0     0      0     0  \n",
       "4        0     0   0      0     0      1     0  \n",
       "\n",
       "[5 rows x 1000 columns]"
      ]
     },
     "execution_count": 69,
     "metadata": {},
     "output_type": "execute_result"
    }
   ],
   "source": [
    "# had we passed in a custom tokenizer to CountVectorizer\n",
    "# we could have created lemmas for tokens and avoided have singular and pluaral versions of the same word \n",
    "dtm.head()"
   ]
  },
  {
   "cell_type": "code",
   "execution_count": 70,
   "metadata": {},
   "outputs": [],
   "source": [
    "# dist of document legnth measured by num of tokens in document\n",
    "doc_len = [len(doc) for doc in data]"
   ]
  },
  {
   "cell_type": "code",
   "execution_count": 73,
   "metadata": {},
   "outputs": [
    {
     "data": {
      "image/png": "[encoded data removed]",
      "text/plain": [
       "<Figure size 432x288 with 1 Axes>"
      ]
     },
     "metadata": {
      "needs_background": "light"
     },
     "output_type": "display_data"
    }
   ],
   "source": [
    "import seaborn as sns\n",
    "# a tid bit of statistical analysis we could make regarding our data set \n",
    "sns.distplot(doc_len);"
   ]
  },
  {
   "cell_type": "markdown",
   "metadata": {},
   "source": [
    "### TfidfVectorizer\n",
    "\n",
    "## Term Frequency - Inverse Document Frequency (TF-IDF)\n",
    "\n",
    "<center><img src=\"https://mungingdata.files.wordpress.com/2017/11/equation.png?w=430&h=336\" width=\"300\"></center>\n",
    "\n",
    "Term Frequency: Percentage of words in document for each word\n",
    "\n",
    "Document Frequency: A penalty for the word existing in a high number of documents.\n",
    "\n",
    "The purpose of TF-IDF is to find what is **unique** to each document. Because of this we will penalize the term frequencies of words that are common across all documents which will allow for each document's most different topics to rise to the top."
   ]
  },
  {
   "cell_type": "markdown",
   "metadata": {},
   "source": [
    "![](https://miro.medium.com/max/3604/1*qQgnyPLDIkUmeZKN2_ZWbQ.png)"
   ]
  },
  {
   "cell_type": "markdown",
   "metadata": {},
   "source": [
    "![](https://upload.wikimedia.org/wikipedia/commons/8/81/Logarithm_plots.png)\n",
    "\n",
    "It's useful to reference both the algebraic and geometric representations of a single mathematical ideal whenever possible in order to build the fullest understanding possible. "
   ]
  },
  {
   "cell_type": "markdown",
   "metadata": {},
   "source": [
    "The IDf portion of the TF-IDF equation has been coded up below so that we can play around with the values and get a better understanding of how this portion of the equation works. \n",
    "\n",
    "NOTE: There are many different ways that one could choose to construct the equation for the IDF term, don't let that trip you up; different constructions of the equation serve different purposes and which you ultimately use simply depends on your problem/task. You can [check out a few different ways to build that IDF term here](https://en.wikipedia.org/wiki/Tf%E2%80%93idf)\n",
    "\n",
    "In practice, you usually don't even have to think about the mathematical formulation of the IDF term. You simply import the tfidf vectorizer and use it's api. The rare exception to this would if you are working a very particular kind of problem where the open source implementation of tfidf doesn't suit your needs and so then you might consider creating your own equation or using a different one that you read about. "
   ]
  },
  {
   "cell_type": "code",
   "execution_count": 134,
   "metadata": {},
   "outputs": [
    {
     "data": {
      "text/plain": [
       "5.51085950651685"
      ]
     },
     "execution_count": 134,
     "metadata": {},
     "output_type": "execute_result"
    }
   ],
   "source": [
    "n = 1000 # num of docs in corpus \n",
    "df = 10 # num of docs that term t (i.e. a token) appears in \n",
    "\n",
    "# inverse document frequency score \n",
    "# the plus ones are constants that shift the around the baseline value \n",
    "np.log( (1 + n)/(1 + df) ) + 1"
   ]
  },
  {
   "cell_type": "markdown",
   "metadata": {},
   "source": [
    "------\n",
    "# Consider This\n",
    "\n",
    "You have just explore a single concept (i.e. tfidf) in 4 different ways \n",
    "- Understanding the definition\n",
    "- Understanding the algebra\n",
    "- Understanding the geometry\n",
    "- Understanding it functionally (ie. implementing it in code) \n",
    "\n",
    "I highly recommend that you try to incorporate as many different persectives when attempting to learn a new concept. \n",
    "\n",
    "-----"
   ]
  },
  {
   "cell_type": "markdown",
   "metadata": {},
   "source": [
    "# Code Word for Attendence Quiz --> embedding"
   ]
  },
  {
   "cell_type": "code",
   "execution_count": 99,
   "metadata": {
    "deletable": false,
    "nbgrader": {
     "cell_type": "code",
     "checksum": "96e3f4d871a285043bb29736c6f35bb7",
     "grade": false,
     "grade_id": "cell-4ccfa3ef2d0404fc",
     "locked": false,
     "schema_version": 3,
     "solution": true,
     "task": false
    }
   },
   "outputs": [],
   "source": [
    "from sklearn.feature_extraction.text import TfidfVectorizer\n",
    "\n",
    "# Instantiate vectorizer object\n",
    "tfidf = TfidfVectorizer(ngram_range=(1,2))\n",
    "# Create a vocabulary and get word counts per document\n",
    "# Similiar to fit_predict\n",
    "dtm = tfidf.fit_transform(data)\n",
    "\n",
    "dtm = pd.DataFrame(data=dtm.toarray(), columns=tfidf.get_feature_names())"
   ]
  },
  {
   "cell_type": "code",
   "execution_count": 100,
   "metadata": {},
   "outputs": [
    {
     "data": {
      "text/html": [
       "<div>\n",
       "<style scoped>\n",
       "    .dataframe tbody tr th:only-of-type {\n",
       "        vertical-align: middle;\n",
       "    }\n",
       "\n",
       "    .dataframe tbody tr th {\n",
       "        vertical-align: top;\n",
       "    }\n",
       "\n",
       "    .dataframe thead th {\n",
       "        text-align: right;\n",
       "    }\n",
       "</style>\n",
       "<table border=\"1\" class=\"dataframe\">\n",
       "  <thead>\n",
       "    <tr style=\"text-align: right;\">\n",
       "      <th></th>\n",
       "      <th>00</th>\n",
       "      <th>00 per</th>\n",
       "      <th>000</th>\n",
       "      <th>000 000</th>\n",
       "      <th>000 130</th>\n",
       "      <th>000 133</th>\n",
       "      <th>000 15</th>\n",
       "      <th>000 39</th>\n",
       "      <th>000 and</th>\n",
       "      <th>000 apiece</th>\n",
       "      <th>...</th>\n",
       "      <th>zones</th>\n",
       "      <th>zones found</th>\n",
       "      <th>zones made</th>\n",
       "      <th>zoom</th>\n",
       "      <th>zoom capability</th>\n",
       "      <th>zoom in</th>\n",
       "      <th>zooms</th>\n",
       "      <th>zooms more</th>\n",
       "      <th>zurich</th>\n",
       "      <th>zurich reported</th>\n",
       "    </tr>\n",
       "  </thead>\n",
       "  <tbody>\n",
       "    <tr>\n",
       "      <th>0</th>\n",
       "      <td>0.0</td>\n",
       "      <td>0.0</td>\n",
       "      <td>0.014561</td>\n",
       "      <td>0.0</td>\n",
       "      <td>0.0</td>\n",
       "      <td>0.0</td>\n",
       "      <td>0.0</td>\n",
       "      <td>0.0</td>\n",
       "      <td>0.034669</td>\n",
       "      <td>0.0</td>\n",
       "      <td>...</td>\n",
       "      <td>0.0</td>\n",
       "      <td>0.0</td>\n",
       "      <td>0.0</td>\n",
       "      <td>0.0</td>\n",
       "      <td>0.0</td>\n",
       "      <td>0.0</td>\n",
       "      <td>0.0</td>\n",
       "      <td>0.0</td>\n",
       "      <td>0.0</td>\n",
       "      <td>0.0</td>\n",
       "    </tr>\n",
       "    <tr>\n",
       "      <th>1</th>\n",
       "      <td>0.0</td>\n",
       "      <td>0.0</td>\n",
       "      <td>0.000000</td>\n",
       "      <td>0.0</td>\n",
       "      <td>0.0</td>\n",
       "      <td>0.0</td>\n",
       "      <td>0.0</td>\n",
       "      <td>0.0</td>\n",
       "      <td>0.000000</td>\n",
       "      <td>0.0</td>\n",
       "      <td>...</td>\n",
       "      <td>0.0</td>\n",
       "      <td>0.0</td>\n",
       "      <td>0.0</td>\n",
       "      <td>0.0</td>\n",
       "      <td>0.0</td>\n",
       "      <td>0.0</td>\n",
       "      <td>0.0</td>\n",
       "      <td>0.0</td>\n",
       "      <td>0.0</td>\n",
       "      <td>0.0</td>\n",
       "    </tr>\n",
       "    <tr>\n",
       "      <th>2</th>\n",
       "      <td>0.0</td>\n",
       "      <td>0.0</td>\n",
       "      <td>0.034588</td>\n",
       "      <td>0.0</td>\n",
       "      <td>0.0</td>\n",
       "      <td>0.0</td>\n",
       "      <td>0.0</td>\n",
       "      <td>0.0</td>\n",
       "      <td>0.000000</td>\n",
       "      <td>0.0</td>\n",
       "      <td>...</td>\n",
       "      <td>0.0</td>\n",
       "      <td>0.0</td>\n",
       "      <td>0.0</td>\n",
       "      <td>0.0</td>\n",
       "      <td>0.0</td>\n",
       "      <td>0.0</td>\n",
       "      <td>0.0</td>\n",
       "      <td>0.0</td>\n",
       "      <td>0.0</td>\n",
       "      <td>0.0</td>\n",
       "    </tr>\n",
       "    <tr>\n",
       "      <th>3</th>\n",
       "      <td>0.0</td>\n",
       "      <td>0.0</td>\n",
       "      <td>0.000000</td>\n",
       "      <td>0.0</td>\n",
       "      <td>0.0</td>\n",
       "      <td>0.0</td>\n",
       "      <td>0.0</td>\n",
       "      <td>0.0</td>\n",
       "      <td>0.000000</td>\n",
       "      <td>0.0</td>\n",
       "      <td>...</td>\n",
       "      <td>0.0</td>\n",
       "      <td>0.0</td>\n",
       "      <td>0.0</td>\n",
       "      <td>0.0</td>\n",
       "      <td>0.0</td>\n",
       "      <td>0.0</td>\n",
       "      <td>0.0</td>\n",
       "      <td>0.0</td>\n",
       "      <td>0.0</td>\n",
       "      <td>0.0</td>\n",
       "    </tr>\n",
       "    <tr>\n",
       "      <th>4</th>\n",
       "      <td>0.0</td>\n",
       "      <td>0.0</td>\n",
       "      <td>0.000000</td>\n",
       "      <td>0.0</td>\n",
       "      <td>0.0</td>\n",
       "      <td>0.0</td>\n",
       "      <td>0.0</td>\n",
       "      <td>0.0</td>\n",
       "      <td>0.000000</td>\n",
       "      <td>0.0</td>\n",
       "      <td>...</td>\n",
       "      <td>0.0</td>\n",
       "      <td>0.0</td>\n",
       "      <td>0.0</td>\n",
       "      <td>0.0</td>\n",
       "      <td>0.0</td>\n",
       "      <td>0.0</td>\n",
       "      <td>0.0</td>\n",
       "      <td>0.0</td>\n",
       "      <td>0.0</td>\n",
       "      <td>0.0</td>\n",
       "    </tr>\n",
       "  </tbody>\n",
       "</table>\n",
       "<p>5 rows × 100516 columns</p>\n",
       "</div>"
      ],
      "text/plain": [
       "    00  00 per       000  000 000  000 130  000 133  000 15  000 39   000 and  \\\n",
       "0  0.0     0.0  0.014561      0.0      0.0      0.0     0.0     0.0  0.034669   \n",
       "1  0.0     0.0  0.000000      0.0      0.0      0.0     0.0     0.0  0.000000   \n",
       "2  0.0     0.0  0.034588      0.0      0.0      0.0     0.0     0.0  0.000000   \n",
       "3  0.0     0.0  0.000000      0.0      0.0      0.0     0.0     0.0  0.000000   \n",
       "4  0.0     0.0  0.000000      0.0      0.0      0.0     0.0     0.0  0.000000   \n",
       "\n",
       "   000 apiece  ...  zones  zones found  zones made  zoom  zoom capability  \\\n",
       "0         0.0  ...    0.0          0.0         0.0   0.0              0.0   \n",
       "1         0.0  ...    0.0          0.0         0.0   0.0              0.0   \n",
       "2         0.0  ...    0.0          0.0         0.0   0.0              0.0   \n",
       "3         0.0  ...    0.0          0.0         0.0   0.0              0.0   \n",
       "4         0.0  ...    0.0          0.0         0.0   0.0              0.0   \n",
       "\n",
       "   zoom in  zooms  zooms more  zurich  zurich reported  \n",
       "0      0.0    0.0         0.0     0.0              0.0  \n",
       "1      0.0    0.0         0.0     0.0              0.0  \n",
       "2      0.0    0.0         0.0     0.0              0.0  \n",
       "3      0.0    0.0         0.0     0.0              0.0  \n",
       "4      0.0    0.0         0.0     0.0              0.0  \n",
       "\n",
       "[5 rows x 100516 columns]"
      ]
     },
     "execution_count": 100,
     "metadata": {},
     "output_type": "execute_result"
    }
   ],
   "source": [
    "dtm.head()"
   ]
  },
  {
   "cell_type": "code",
   "execution_count": 101,
   "metadata": {},
   "outputs": [],
   "source": [
    "def tokenize(document):\n",
    "    \"\"\"\n",
    "    Takes a doc and returns a list of tokens in the form of lemmas.\n",
    "    Stop words and punctuation are filtered out. \n",
    "    \"\"\"\n",
    "    \n",
    "    doc = nlp(document)\n",
    "    \n",
    "    return [token.lemma_.strip() for token in doc if (token.is_stop != True) and (token.is_punct != True)]"
   ]
  },
  {
   "cell_type": "code",
   "execution_count": 102,
   "metadata": {
    "deletable": false,
    "nbgrader": {
     "cell_type": "code",
     "checksum": "94314eba76be22273e8b07247bb8b1f6",
     "grade": false,
     "grade_id": "cell-0667a7a2ebea2224",
     "locked": false,
     "schema_version": 3,
     "solution": true,
     "task": false
    }
   },
   "outputs": [],
   "source": [
    "# Instantiate vectorizer object\n",
    "tfidf = TfidfVectorizer(tokenizer=tokenize)\n",
    "# Create a vocabulary and get word counts per document\n",
    "# Similiar to fit_predict\n",
    "dtm = tfidf.fit_transform(data)\n",
    "\n",
    "dtm = pd.DataFrame(data=dtm.toarray(), columns=tfidf.get_feature_names())"
   ]
  },
  {
   "cell_type": "code",
   "execution_count": 104,
   "metadata": {},
   "outputs": [
    {
     "data": {
      "text/html": [
       "<div>\n",
       "<style scoped>\n",
       "    .dataframe tbody tr th:only-of-type {\n",
       "        vertical-align: middle;\n",
       "    }\n",
       "\n",
       "    .dataframe tbody tr th {\n",
       "        vertical-align: top;\n",
       "    }\n",
       "\n",
       "    .dataframe thead th {\n",
       "        text-align: right;\n",
       "    }\n",
       "</style>\n",
       "<table border=\"1\" class=\"dataframe\">\n",
       "  <thead>\n",
       "    <tr style=\"text-align: right;\">\n",
       "      <th></th>\n",
       "      <th></th>\n",
       "      <th>$</th>\n",
       "      <th>+</th>\n",
       "      <th>-PRON-</th>\n",
       "      <th>-top</th>\n",
       "      <th>.22</th>\n",
       "      <th>.aero</th>\n",
       "      <th>.biz</th>\n",
       "      <th>.com</th>\n",
       "      <th>.fr</th>\n",
       "      <th>...</th>\n",
       "      <th>zero</th>\n",
       "      <th>zhang</th>\n",
       "      <th>zip</th>\n",
       "      <th>zodiac</th>\n",
       "      <th>zombie</th>\n",
       "      <th>zone</th>\n",
       "      <th>zonealarm</th>\n",
       "      <th>zoom</th>\n",
       "      <th>zurich</th>\n",
       "      <th>£</th>\n",
       "    </tr>\n",
       "  </thead>\n",
       "  <tbody>\n",
       "    <tr>\n",
       "      <th>0</th>\n",
       "      <td>0.063297</td>\n",
       "      <td>0.000000</td>\n",
       "      <td>0.0</td>\n",
       "      <td>0.0</td>\n",
       "      <td>0.0</td>\n",
       "      <td>0.0</td>\n",
       "      <td>0.0</td>\n",
       "      <td>0.0</td>\n",
       "      <td>0.0</td>\n",
       "      <td>0.0</td>\n",
       "      <td>...</td>\n",
       "      <td>0.0</td>\n",
       "      <td>0.0</td>\n",
       "      <td>0.0</td>\n",
       "      <td>0.0</td>\n",
       "      <td>0.0</td>\n",
       "      <td>0.0</td>\n",
       "      <td>0.0</td>\n",
       "      <td>0.0</td>\n",
       "      <td>0.0</td>\n",
       "      <td>0.030789</td>\n",
       "    </tr>\n",
       "    <tr>\n",
       "      <th>1</th>\n",
       "      <td>0.094932</td>\n",
       "      <td>0.000000</td>\n",
       "      <td>0.0</td>\n",
       "      <td>0.0</td>\n",
       "      <td>0.0</td>\n",
       "      <td>0.0</td>\n",
       "      <td>0.0</td>\n",
       "      <td>0.0</td>\n",
       "      <td>0.0</td>\n",
       "      <td>0.0</td>\n",
       "      <td>...</td>\n",
       "      <td>0.0</td>\n",
       "      <td>0.0</td>\n",
       "      <td>0.0</td>\n",
       "      <td>0.0</td>\n",
       "      <td>0.0</td>\n",
       "      <td>0.0</td>\n",
       "      <td>0.0</td>\n",
       "      <td>0.0</td>\n",
       "      <td>0.0</td>\n",
       "      <td>0.000000</td>\n",
       "    </tr>\n",
       "    <tr>\n",
       "      <th>2</th>\n",
       "      <td>0.082355</td>\n",
       "      <td>0.050291</td>\n",
       "      <td>0.0</td>\n",
       "      <td>0.0</td>\n",
       "      <td>0.0</td>\n",
       "      <td>0.0</td>\n",
       "      <td>0.0</td>\n",
       "      <td>0.0</td>\n",
       "      <td>0.0</td>\n",
       "      <td>0.0</td>\n",
       "      <td>...</td>\n",
       "      <td>0.0</td>\n",
       "      <td>0.0</td>\n",
       "      <td>0.0</td>\n",
       "      <td>0.0</td>\n",
       "      <td>0.0</td>\n",
       "      <td>0.0</td>\n",
       "      <td>0.0</td>\n",
       "      <td>0.0</td>\n",
       "      <td>0.0</td>\n",
       "      <td>0.044510</td>\n",
       "    </tr>\n",
       "    <tr>\n",
       "      <th>3</th>\n",
       "      <td>0.055218</td>\n",
       "      <td>0.000000</td>\n",
       "      <td>0.0</td>\n",
       "      <td>0.0</td>\n",
       "      <td>0.0</td>\n",
       "      <td>0.0</td>\n",
       "      <td>0.0</td>\n",
       "      <td>0.0</td>\n",
       "      <td>0.0</td>\n",
       "      <td>0.0</td>\n",
       "      <td>...</td>\n",
       "      <td>0.0</td>\n",
       "      <td>0.0</td>\n",
       "      <td>0.0</td>\n",
       "      <td>0.0</td>\n",
       "      <td>0.0</td>\n",
       "      <td>0.0</td>\n",
       "      <td>0.0</td>\n",
       "      <td>0.0</td>\n",
       "      <td>0.0</td>\n",
       "      <td>0.000000</td>\n",
       "    </tr>\n",
       "    <tr>\n",
       "      <th>4</th>\n",
       "      <td>0.050586</td>\n",
       "      <td>0.000000</td>\n",
       "      <td>0.0</td>\n",
       "      <td>0.0</td>\n",
       "      <td>0.0</td>\n",
       "      <td>0.0</td>\n",
       "      <td>0.0</td>\n",
       "      <td>0.0</td>\n",
       "      <td>0.0</td>\n",
       "      <td>0.0</td>\n",
       "      <td>...</td>\n",
       "      <td>0.0</td>\n",
       "      <td>0.0</td>\n",
       "      <td>0.0</td>\n",
       "      <td>0.0</td>\n",
       "      <td>0.0</td>\n",
       "      <td>0.0</td>\n",
       "      <td>0.0</td>\n",
       "      <td>0.0</td>\n",
       "      <td>0.0</td>\n",
       "      <td>0.000000</td>\n",
       "    </tr>\n",
       "  </tbody>\n",
       "</table>\n",
       "<p>5 rows × 9329 columns</p>\n",
       "</div>"
      ],
      "text/plain": [
       "                    $    +  -PRON-  -top  .22  .aero  .biz  .com  .fr  ...  \\\n",
       "0  0.063297  0.000000  0.0     0.0   0.0  0.0    0.0   0.0   0.0  0.0  ...   \n",
       "1  0.094932  0.000000  0.0     0.0   0.0  0.0    0.0   0.0   0.0  0.0  ...   \n",
       "2  0.082355  0.050291  0.0     0.0   0.0  0.0    0.0   0.0   0.0  0.0  ...   \n",
       "3  0.055218  0.000000  0.0     0.0   0.0  0.0    0.0   0.0   0.0  0.0  ...   \n",
       "4  0.050586  0.000000  0.0     0.0   0.0  0.0    0.0   0.0   0.0  0.0  ...   \n",
       "\n",
       "   zero  zhang  zip  zodiac  zombie  zone  zonealarm  zoom  zurich         £  \n",
       "0   0.0    0.0  0.0     0.0     0.0   0.0        0.0   0.0     0.0  0.030789  \n",
       "1   0.0    0.0  0.0     0.0     0.0   0.0        0.0   0.0     0.0  0.000000  \n",
       "2   0.0    0.0  0.0     0.0     0.0   0.0        0.0   0.0     0.0  0.044510  \n",
       "3   0.0    0.0  0.0     0.0     0.0   0.0        0.0   0.0     0.0  0.000000  \n",
       "4   0.0    0.0  0.0     0.0     0.0   0.0        0.0   0.0     0.0  0.000000  \n",
       "\n",
       "[5 rows x 9329 columns]"
      ]
     },
     "execution_count": 104,
     "metadata": {},
     "output_type": "execute_result"
    }
   ],
   "source": [
    "dtm.head()"
   ]
  },
  {
   "cell_type": "markdown",
   "metadata": {},
   "source": [
    "## Challenge\n",
    "\n",
    "During this module's project assignment, you will transform data science job listings to vector representations for analysis downstream. "
   ]
  },
  {
   "cell_type": "markdown",
   "metadata": {},
   "source": [
    "# Query Documents by Similarity (Learn)\n",
    "<a id=\"p2\"></a>"
   ]
  },
  {
   "cell_type": "markdown",
   "metadata": {},
   "source": [
    "## Overview\n",
    "\n",
    "Have you ever considered how a search bar works? You may just think that search bars simply match your input text againist the documents. While there are many different mechanisms for the 'match', one of the most classic is to search by similarity. We will apply n-dimensional distance to measure similarity, and query for input and output. "
   ]
  },
  {
   "cell_type": "markdown",
   "metadata": {
    "toc-hr-collapsed": true
   },
   "source": [
    "## Follow Along"
   ]
  },
  {
   "cell_type": "markdown",
   "metadata": {},
   "source": [
    "### Cosine Similarity (Brute Force)"
   ]
  },
  {
   "cell_type": "code",
   "execution_count": 106,
   "metadata": {
    "deletable": false,
    "nbgrader": {
     "cell_type": "code",
     "checksum": "0d29446c9e0c303e7880c0d0b5331d13",
     "grade": false,
     "grade_id": "cell-76ce78f9798d38bc",
     "locked": false,
     "schema_version": 3,
     "solution": true,
     "task": false
    }
   },
   "outputs": [
    {
     "data": {
      "text/plain": [
       "(401, 401)"
      ]
     },
     "execution_count": 106,
     "metadata": {},
     "output_type": "execute_result"
    }
   ],
   "source": [
    "from sklearn.metrics.pairwise import cosine_similarity\n",
    "\n",
    "# Calculate Distance of TF-IDF Vectors\n",
    "dist_matrix = cosine_similarity(dtm)\n",
    "\n",
    "# Turn it into a DataFrame\n",
    "df_dist = pd.DataFrame(dist_matrix)\n",
    "\n",
    "# Our Similarity Matrix is ? size \n",
    "df_dist.shape"
   ]
  },
  {
   "cell_type": "code",
   "execution_count": 116,
   "metadata": {},
   "outputs": [
    {
     "data": {
      "text/html": [
       "<div>\n",
       "<style scoped>\n",
       "    .dataframe tbody tr th:only-of-type {\n",
       "        vertical-align: middle;\n",
       "    }\n",
       "\n",
       "    .dataframe tbody tr th {\n",
       "        vertical-align: top;\n",
       "    }\n",
       "\n",
       "    .dataframe thead th {\n",
       "        text-align: right;\n",
       "    }\n",
       "</style>\n",
       "<table border=\"1\" class=\"dataframe\">\n",
       "  <thead>\n",
       "    <tr style=\"text-align: right;\">\n",
       "      <th></th>\n",
       "      <th>0</th>\n",
       "      <th>1</th>\n",
       "      <th>2</th>\n",
       "      <th>3</th>\n",
       "      <th>4</th>\n",
       "      <th>5</th>\n",
       "      <th>6</th>\n",
       "      <th>7</th>\n",
       "      <th>8</th>\n",
       "      <th>9</th>\n",
       "      <th>...</th>\n",
       "      <th>391</th>\n",
       "      <th>392</th>\n",
       "      <th>393</th>\n",
       "      <th>394</th>\n",
       "      <th>395</th>\n",
       "      <th>396</th>\n",
       "      <th>397</th>\n",
       "      <th>398</th>\n",
       "      <th>399</th>\n",
       "      <th>400</th>\n",
       "    </tr>\n",
       "  </thead>\n",
       "  <tbody>\n",
       "    <tr>\n",
       "      <th>0</th>\n",
       "      <td>1.000000</td>\n",
       "      <td>0.083264</td>\n",
       "      <td>0.041460</td>\n",
       "      <td>0.012497</td>\n",
       "      <td>0.062365</td>\n",
       "      <td>0.017552</td>\n",
       "      <td>0.039797</td>\n",
       "      <td>0.053851</td>\n",
       "      <td>0.026396</td>\n",
       "      <td>0.065374</td>\n",
       "      <td>...</td>\n",
       "      <td>0.036981</td>\n",
       "      <td>0.019306</td>\n",
       "      <td>0.099400</td>\n",
       "      <td>0.021611</td>\n",
       "      <td>0.015336</td>\n",
       "      <td>0.053478</td>\n",
       "      <td>0.028644</td>\n",
       "      <td>0.027405</td>\n",
       "      <td>0.136809</td>\n",
       "      <td>0.025606</td>\n",
       "    </tr>\n",
       "    <tr>\n",
       "      <th>1</th>\n",
       "      <td>0.083264</td>\n",
       "      <td>1.000000</td>\n",
       "      <td>0.056354</td>\n",
       "      <td>0.015902</td>\n",
       "      <td>0.083153</td>\n",
       "      <td>0.049340</td>\n",
       "      <td>0.025659</td>\n",
       "      <td>0.030514</td>\n",
       "      <td>0.017912</td>\n",
       "      <td>0.149864</td>\n",
       "      <td>...</td>\n",
       "      <td>0.019475</td>\n",
       "      <td>0.022620</td>\n",
       "      <td>0.049364</td>\n",
       "      <td>0.030314</td>\n",
       "      <td>0.030712</td>\n",
       "      <td>0.032791</td>\n",
       "      <td>0.049912</td>\n",
       "      <td>0.040168</td>\n",
       "      <td>0.062578</td>\n",
       "      <td>0.035742</td>\n",
       "    </tr>\n",
       "    <tr>\n",
       "      <th>2</th>\n",
       "      <td>0.041460</td>\n",
       "      <td>0.056354</td>\n",
       "      <td>1.000000</td>\n",
       "      <td>0.014022</td>\n",
       "      <td>0.053671</td>\n",
       "      <td>0.040743</td>\n",
       "      <td>0.096042</td>\n",
       "      <td>0.201359</td>\n",
       "      <td>0.066753</td>\n",
       "      <td>0.049059</td>\n",
       "      <td>...</td>\n",
       "      <td>0.088609</td>\n",
       "      <td>0.032412</td>\n",
       "      <td>0.066953</td>\n",
       "      <td>0.032907</td>\n",
       "      <td>0.060656</td>\n",
       "      <td>0.040760</td>\n",
       "      <td>0.030610</td>\n",
       "      <td>0.118978</td>\n",
       "      <td>0.019469</td>\n",
       "      <td>0.032495</td>\n",
       "    </tr>\n",
       "    <tr>\n",
       "      <th>3</th>\n",
       "      <td>0.012497</td>\n",
       "      <td>0.015902</td>\n",
       "      <td>0.014022</td>\n",
       "      <td>1.000000</td>\n",
       "      <td>0.025919</td>\n",
       "      <td>0.024725</td>\n",
       "      <td>0.019901</td>\n",
       "      <td>0.025764</td>\n",
       "      <td>0.038162</td>\n",
       "      <td>0.189050</td>\n",
       "      <td>...</td>\n",
       "      <td>0.027129</td>\n",
       "      <td>0.032514</td>\n",
       "      <td>0.007533</td>\n",
       "      <td>0.077509</td>\n",
       "      <td>0.024538</td>\n",
       "      <td>0.088821</td>\n",
       "      <td>0.010222</td>\n",
       "      <td>0.033324</td>\n",
       "      <td>0.104111</td>\n",
       "      <td>0.138553</td>\n",
       "    </tr>\n",
       "    <tr>\n",
       "      <th>4</th>\n",
       "      <td>0.062365</td>\n",
       "      <td>0.083153</td>\n",
       "      <td>0.053671</td>\n",
       "      <td>0.025919</td>\n",
       "      <td>1.000000</td>\n",
       "      <td>0.026186</td>\n",
       "      <td>0.044166</td>\n",
       "      <td>0.057546</td>\n",
       "      <td>0.015012</td>\n",
       "      <td>0.178375</td>\n",
       "      <td>...</td>\n",
       "      <td>0.033343</td>\n",
       "      <td>0.034303</td>\n",
       "      <td>0.038357</td>\n",
       "      <td>0.031834</td>\n",
       "      <td>0.027042</td>\n",
       "      <td>0.037561</td>\n",
       "      <td>0.021060</td>\n",
       "      <td>0.021789</td>\n",
       "      <td>0.043998</td>\n",
       "      <td>0.038057</td>\n",
       "    </tr>\n",
       "    <tr>\n",
       "      <th>...</th>\n",
       "      <td>...</td>\n",
       "      <td>...</td>\n",
       "      <td>...</td>\n",
       "      <td>...</td>\n",
       "      <td>...</td>\n",
       "      <td>...</td>\n",
       "      <td>...</td>\n",
       "      <td>...</td>\n",
       "      <td>...</td>\n",
       "      <td>...</td>\n",
       "      <td>...</td>\n",
       "      <td>...</td>\n",
       "      <td>...</td>\n",
       "      <td>...</td>\n",
       "      <td>...</td>\n",
       "      <td>...</td>\n",
       "      <td>...</td>\n",
       "      <td>...</td>\n",
       "      <td>...</td>\n",
       "      <td>...</td>\n",
       "      <td>...</td>\n",
       "    </tr>\n",
       "    <tr>\n",
       "      <th>396</th>\n",
       "      <td>0.053478</td>\n",
       "      <td>0.032791</td>\n",
       "      <td>0.040760</td>\n",
       "      <td>0.088821</td>\n",
       "      <td>0.037561</td>\n",
       "      <td>0.072947</td>\n",
       "      <td>0.041341</td>\n",
       "      <td>0.025623</td>\n",
       "      <td>0.021902</td>\n",
       "      <td>0.055475</td>\n",
       "      <td>...</td>\n",
       "      <td>0.042469</td>\n",
       "      <td>0.020244</td>\n",
       "      <td>0.013893</td>\n",
       "      <td>0.078979</td>\n",
       "      <td>0.023533</td>\n",
       "      <td>1.000000</td>\n",
       "      <td>0.021858</td>\n",
       "      <td>0.034905</td>\n",
       "      <td>0.030357</td>\n",
       "      <td>0.065187</td>\n",
       "    </tr>\n",
       "    <tr>\n",
       "      <th>397</th>\n",
       "      <td>0.028644</td>\n",
       "      <td>0.049912</td>\n",
       "      <td>0.030610</td>\n",
       "      <td>0.010222</td>\n",
       "      <td>0.021060</td>\n",
       "      <td>0.011513</td>\n",
       "      <td>0.018840</td>\n",
       "      <td>0.029693</td>\n",
       "      <td>0.018880</td>\n",
       "      <td>0.021666</td>\n",
       "      <td>...</td>\n",
       "      <td>0.027120</td>\n",
       "      <td>0.013978</td>\n",
       "      <td>0.032502</td>\n",
       "      <td>0.023866</td>\n",
       "      <td>0.013891</td>\n",
       "      <td>0.021858</td>\n",
       "      <td>1.000000</td>\n",
       "      <td>0.017001</td>\n",
       "      <td>0.018130</td>\n",
       "      <td>0.016588</td>\n",
       "    </tr>\n",
       "    <tr>\n",
       "      <th>398</th>\n",
       "      <td>0.027405</td>\n",
       "      <td>0.040168</td>\n",
       "      <td>0.118978</td>\n",
       "      <td>0.033324</td>\n",
       "      <td>0.021789</td>\n",
       "      <td>0.014897</td>\n",
       "      <td>0.041171</td>\n",
       "      <td>0.071222</td>\n",
       "      <td>0.050936</td>\n",
       "      <td>0.032449</td>\n",
       "      <td>...</td>\n",
       "      <td>0.036654</td>\n",
       "      <td>0.024094</td>\n",
       "      <td>0.093189</td>\n",
       "      <td>0.025175</td>\n",
       "      <td>0.059526</td>\n",
       "      <td>0.034905</td>\n",
       "      <td>0.017001</td>\n",
       "      <td>1.000000</td>\n",
       "      <td>0.021494</td>\n",
       "      <td>0.036762</td>\n",
       "    </tr>\n",
       "    <tr>\n",
       "      <th>399</th>\n",
       "      <td>0.136809</td>\n",
       "      <td>0.062578</td>\n",
       "      <td>0.019469</td>\n",
       "      <td>0.104111</td>\n",
       "      <td>0.043998</td>\n",
       "      <td>0.025200</td>\n",
       "      <td>0.018349</td>\n",
       "      <td>0.011543</td>\n",
       "      <td>0.028423</td>\n",
       "      <td>0.140313</td>\n",
       "      <td>...</td>\n",
       "      <td>0.011809</td>\n",
       "      <td>0.024018</td>\n",
       "      <td>0.036377</td>\n",
       "      <td>0.042456</td>\n",
       "      <td>0.012132</td>\n",
       "      <td>0.030357</td>\n",
       "      <td>0.018130</td>\n",
       "      <td>0.021494</td>\n",
       "      <td>1.000000</td>\n",
       "      <td>0.068521</td>\n",
       "    </tr>\n",
       "    <tr>\n",
       "      <th>400</th>\n",
       "      <td>0.025606</td>\n",
       "      <td>0.035742</td>\n",
       "      <td>0.032495</td>\n",
       "      <td>0.138553</td>\n",
       "      <td>0.038057</td>\n",
       "      <td>0.032895</td>\n",
       "      <td>0.011460</td>\n",
       "      <td>0.027243</td>\n",
       "      <td>0.041808</td>\n",
       "      <td>0.143388</td>\n",
       "      <td>...</td>\n",
       "      <td>0.014287</td>\n",
       "      <td>0.027562</td>\n",
       "      <td>0.026968</td>\n",
       "      <td>0.067892</td>\n",
       "      <td>0.080288</td>\n",
       "      <td>0.065187</td>\n",
       "      <td>0.016588</td>\n",
       "      <td>0.036762</td>\n",
       "      <td>0.068521</td>\n",
       "      <td>1.000000</td>\n",
       "    </tr>\n",
       "  </tbody>\n",
       "</table>\n",
       "<p>401 rows × 401 columns</p>\n",
       "</div>"
      ],
      "text/plain": [
       "          0         1         2         3         4         5         6    \\\n",
       "0    1.000000  0.083264  0.041460  0.012497  0.062365  0.017552  0.039797   \n",
       "1    0.083264  1.000000  0.056354  0.015902  0.083153  0.049340  0.025659   \n",
       "2    0.041460  0.056354  1.000000  0.014022  0.053671  0.040743  0.096042   \n",
       "3    0.012497  0.015902  0.014022  1.000000  0.025919  0.024725  0.019901   \n",
       "4    0.062365  0.083153  0.053671  0.025919  1.000000  0.026186  0.044166   \n",
       "..        ...       ...       ...       ...       ...       ...       ...   \n",
       "396  0.053478  0.032791  0.040760  0.088821  0.037561  0.072947  0.041341   \n",
       "397  0.028644  0.049912  0.030610  0.010222  0.021060  0.011513  0.018840   \n",
       "398  0.027405  0.040168  0.118978  0.033324  0.021789  0.014897  0.041171   \n",
       "399  0.136809  0.062578  0.019469  0.104111  0.043998  0.025200  0.018349   \n",
       "400  0.025606  0.035742  0.032495  0.138553  0.038057  0.032895  0.011460   \n",
       "\n",
       "          7         8         9    ...       391       392       393  \\\n",
       "0    0.053851  0.026396  0.065374  ...  0.036981  0.019306  0.099400   \n",
       "1    0.030514  0.017912  0.149864  ...  0.019475  0.022620  0.049364   \n",
       "2    0.201359  0.066753  0.049059  ...  0.088609  0.032412  0.066953   \n",
       "3    0.025764  0.038162  0.189050  ...  0.027129  0.032514  0.007533   \n",
       "4    0.057546  0.015012  0.178375  ...  0.033343  0.034303  0.038357   \n",
       "..        ...       ...       ...  ...       ...       ...       ...   \n",
       "396  0.025623  0.021902  0.055475  ...  0.042469  0.020244  0.013893   \n",
       "397  0.029693  0.018880  0.021666  ...  0.027120  0.013978  0.032502   \n",
       "398  0.071222  0.050936  0.032449  ...  0.036654  0.024094  0.093189   \n",
       "399  0.011543  0.028423  0.140313  ...  0.011809  0.024018  0.036377   \n",
       "400  0.027243  0.041808  0.143388  ...  0.014287  0.027562  0.026968   \n",
       "\n",
       "          394       395       396       397       398       399       400  \n",
       "0    0.021611  0.015336  0.053478  0.028644  0.027405  0.136809  0.025606  \n",
       "1    0.030314  0.030712  0.032791  0.049912  0.040168  0.062578  0.035742  \n",
       "2    0.032907  0.060656  0.040760  0.030610  0.118978  0.019469  0.032495  \n",
       "3    0.077509  0.024538  0.088821  0.010222  0.033324  0.104111  0.138553  \n",
       "4    0.031834  0.027042  0.037561  0.021060  0.021789  0.043998  0.038057  \n",
       "..        ...       ...       ...       ...       ...       ...       ...  \n",
       "396  0.078979  0.023533  1.000000  0.021858  0.034905  0.030357  0.065187  \n",
       "397  0.023866  0.013891  0.021858  1.000000  0.017001  0.018130  0.016588  \n",
       "398  0.025175  0.059526  0.034905  0.017001  1.000000  0.021494  0.036762  \n",
       "399  0.042456  0.012132  0.030357  0.018130  0.021494  1.000000  0.068521  \n",
       "400  0.067892  0.080288  0.065187  0.016588  0.036762  0.068521  1.000000  \n",
       "\n",
       "[401 rows x 401 columns]"
      ]
     },
     "execution_count": 116,
     "metadata": {},
     "output_type": "execute_result"
    }
   ],
   "source": [
    "# the problem with using cosine simularity is that this is not a scalable algorithm\n",
    "# if the numnber of articles N is very large, like N = 10,000,000\n",
    "# then we'll have a N x N matrix that will be very computationally expensive to calculate, store, and look up \n",
    "df_dist"
   ]
  },
  {
   "cell_type": "code",
   "execution_count": 113,
   "metadata": {},
   "outputs": [
    {
     "data": {
      "text/plain": [
       "297    0.361247\n",
       "300    0.353277\n",
       "92     0.329382\n",
       "63     0.296307\n",
       "381    0.291028\n",
       "Name: 0, dtype: float64"
      ]
     },
     "execution_count": 113,
     "metadata": {},
     "output_type": "execute_result"
    }
   ],
   "source": [
    "user_article_index = 0 \n",
    "not_self_mask = df_dist[user_article_index] < 1\n",
    "df_dist[not_self_mask][user_article_index].sort_values(ascending=False)[:5]"
   ]
  },
  {
   "cell_type": "code",
   "execution_count": 114,
   "metadata": {},
   "outputs": [
    {
     "data": {
      "text/plain": [
       "b'Mobiles rack up 20 years of use\\n\\nMobile phones in the UK are celebrating their 20th anniversary this weekend.\\n\\nBritain\\'s first mobile phone call was made across the Vodafone network on 1 January 1985 by veteran comedian Ernie Wise. In the 20 years since that day, mobile phones have become an integral part of modern life and now almost 90% of Britons own a handset. Mobiles have become so popular that many people use their handset as their only phone and rarely use a landline.\\n\\nThe first ever call over a portable phone was made in 1973 in New York but it took 10 years for the first commercial mobile service to be launched. The UK was not far behind the rest of the world in setting up networks in 1985 that let people make calls while they walked. The first call was made from St Katherine\\'s dock to Vodafone\\'s head office in Newbury which at the time was over a curry house. For the first nine days of 1985 Vodafone was the only firm with a mobile network in the UK. Then on 10 January Cellnet (now O2) launched its service. Mike Caudwell, spokesman for Vodafone, said that when phones were launched they were the size of a briefcase, cost about \\xc2\\xa32,000 and had a battery life of little more than 20 minutes.\\n\\n\"Despite that they were hugely popular in the mid-80s,\" he said. \"They became a yuppy must-have and a status symbol among young wealthy business folk.\" This was also despite the fact that the phones used analogue radio signals to communicate which made them very easy to eavesdrop on. He said it took Vodafone almost nine years to rack up its first million customers but only 18 months to get the second million. \"It\\'s very easy to forget that in 1983 when we put the bid document in we were forecasting that the total market would be two million people,\" he said. \"Cellnet was forecasting half that.\" Now Vodafone has 14m customers in the UK alone. Cellnet and Vodafone were the only mobile phone operators in the UK until 1993 when One2One (now T-Mobile) was launched. Orange had its UK launch in 1994. Both newcomers operated digital mobile networks and now all operators use this technology. The analogue spectrum for the old phones has been retired. Called Global System for Mobiles (GSM) this is now the most widely used phone technology on the planet and is used to help more than 1.2 billion people make calls. Mr Caudwell said the advent of digital technology also helped to introduce all those things, such as text messaging and roaming that have made mobiles so popular.\\n'"
      ]
     },
     "execution_count": 114,
     "metadata": {},
     "output_type": "execute_result"
    }
   ],
   "source": [
    "# article user is reading\n",
    "data[0]"
   ]
  },
  {
   "cell_type": "code",
   "execution_count": 115,
   "metadata": {},
   "outputs": [
    {
     "data": {
      "text/plain": [
       "b'\\'Friends fear\\' with lost mobiles\\n\\nPeople are becoming so dependent on their mobile phones that one in three are concerned that losing their phone would mean they lose their friends.\\n\\nMore than 50% of mobile owners reported they had had their phone stolen or lost in the last three years. More than half (54%) of those asked in a poll for mobile firm Intervoice said that they do not have another address book. A fifth rely entirely on mobiles. About 80% of UK adults own at least one mobile, according to official figures. It is estimated that 53% of over 65s own a mobile, according to Intervoice, but the figures are higher for those aged between 15 and 34.\\n\\nMost 15 to 24-year-olds (94%), and 25 to 34-year-olds (92%), own at least one. Nineteen percent of mobile owners were more concerned about how long it would take to find their contacts\\' information again if the phone was lost, stolen or replaced.\\n\\nThe survey showed that extent to which people have become reliant on their phones as address book. Many mobile owners do not bother to make back-ups of their contact details, and with people changing their phones once a year on average, it becomes a problem. They also are becoming less likely to remember numbers by heart, relying on the mobile phone book instead. \"We\\'re a nation of lazy so-and-sos,\" David Noone from Intervoice said. \"We put the numbers in our phones so we can call a friend at the touch of just one or two buttons and we certainly can\\'t be bothered to write them down in an old fashioned address book. \"The mobile phone plays such a key role in modern relationships; take the phone away and the way we manage these relationships falls apart.\" One in three women, the survey said, thought if they lost their phones, it would mean they would lose touch with people altogether. Most (62%) said they had no idea what their partner\\'s number was. Mr Noone said it should be up to mobile operators to provide back-up services on the network itself, instead of relying on mobile owners to find ways themselves.\\n\\nGenerally, information from Sim cards can be backed up on physical memory cards, or can be copied onto computers via cables if the phone is a smartphone model with the right software. Sim back-up devices can be bought from phone shops for just a few pounds.\\n\\nBut some operators offer customers free web-based back-up services too. Orange told the BBC News website that those with Orange Smartphones could use the My Phone syncing service which means back-ups of address books and other data are created online. For non-smartphone users, a Memory Mate card could be used to back up data on the phone. O2 also offers a free, web-based syncing service which works over GPRS and GSM. Neither Vodafone or T-Mobile currently offer a free network service for back-ups, but encourage people to use Sim back-up devices. It is thought that about 10,000 phones are lost or stolen every month and 50% of total street crime involves a mobile. Mobile phone sales are expected to continue growing over the next year. Globally, more than 167 million mobile phones were sold in the third quarter of 2004, 26% more than the previous year, according to analysts. It is predicted that there will be two billion handsets in use worldwide by the end of 2005.\\n'"
      ]
     },
     "execution_count": 115,
     "metadata": {},
     "output_type": "execute_result"
    }
   ],
   "source": [
    "# article recommended to user based on largest sim score \n",
    "data[297]"
   ]
  },
  {
   "cell_type": "markdown",
   "metadata": {},
   "source": [
    "### NearestNeighbor (K-NN) \n",
    "![](https://miro.medium.com/max/753/0*jqxx3-dJqFjXD6FA)\n",
    "\n",
    "\n",
    "Nearest Neighbor models are distance based algorithms. They store your training set in memory. \n",
    "\n",
    "When you want to find the nearest neighbors for a point in your test set, then simply calculate the distance of the nearest k points. \n",
    "\n",
    "So instead of calculating the every single possible distance between all points (i.e. **Brute Force** ) , NN models only calculate the nearest k distances. "
   ]
  },
  {
   "cell_type": "code",
   "execution_count": 121,
   "metadata": {
    "deletable": false,
    "nbgrader": {
     "cell_type": "code",
     "checksum": "cb748472d4ac77cf4c711b50bfc7eac1",
     "grade": false,
     "grade_id": "cell-eac83ba5d76f6bf2",
     "locked": false,
     "schema_version": 3,
     "solution": true,
     "task": false
    }
   },
   "outputs": [],
   "source": [
    "from sklearn.neighbors import NearestNeighbors\n",
    "\n",
    "# Fit on DTM\n",
    "nn = NearestNeighbors(n_neighbors=5, algorithm='kd_tree')\n",
    "nn.fit(dtm);"
   ]
  },
  {
   "cell_type": "code",
   "execution_count": 122,
   "metadata": {},
   "outputs": [],
   "source": [
    "# sample a doc from dtm to use as our query point \n",
    "user_doc_ind = 0 \n",
    "user_doc = dtm.iloc[user_doc_ind].values\n",
    "doc = [user_doc]\n",
    "\n",
    "# Query Using kneighbors \n",
    "neigh_dist, neigh_index = nn.kneighbors(doc)"
   ]
  },
  {
   "cell_type": "code",
   "execution_count": 123,
   "metadata": {},
   "outputs": [
    {
     "data": {
      "text/plain": [
       "array([[0.        , 0.        , 1.13026823, 1.13729767, 1.15811714]])"
      ]
     },
     "execution_count": 123,
     "metadata": {},
     "output_type": "execute_result"
    }
   ],
   "source": [
    "neigh_dist"
   ]
  },
  {
   "cell_type": "code",
   "execution_count": 124,
   "metadata": {},
   "outputs": [
    {
     "data": {
      "text/plain": [
       "array([[  0,  62, 297, 300,  92]])"
      ]
     },
     "execution_count": 124,
     "metadata": {},
     "output_type": "execute_result"
    }
   ],
   "source": [
    "neigh_index"
   ]
  },
  {
   "cell_type": "code",
   "execution_count": null,
   "metadata": {},
   "outputs": [],
   "source": [
    "rndm_tech_article = [ \"\"\"\n",
    "Blockchain technology encompasses so much more than just cryptocurrencies these days. And while these currencies are by far blockchain’s most famous use case, the potential for blockchain far, far exceeds a straightforward transfer of value.\n",
    "The gaming industry, for example, has always been fairly controversial due to a range of issues. Many players feel particularly worried about the protection of their data, fraudulent activities, high fees, and most of all, unfair and hidden odds.\n",
    "In these cases, P2P doesn’t just mean peer-to-peer; it means player-to-player. As with the other P2P industries that blockchain is disrupting, such as FinTech, there are already plenty of ways in which blockchain technology is being applied to resolve these issues and many more of the challenges faced by the gaming industry. Here are just a few.\n",
    "Reducing fraud\n",
    "The gaming industry suffers a lot from online fraud. One of the main advantages of blockchain technology is that it enables highly secure data encryption. What’s more, all of it is entirely accessible and transparent to the player. In other words, blockchain is a for game changer for venues such as online casinos, lotteries, and virtually anything which relies on random number generation.\n",
    "On top of this, hackers will have particularly hard time, if it is even possible, to destroy a decentralized blockchain network, making sure gamer data stays safe. This is an inherent feature of distributed ledger technology whereby nodes in the ledger maintain the distributed databases in a shared manner, and each node has the complete information in the entire database.\n",
    "\"\"\"]\n",
    "\n",
    "# Fit NN for similarity of random doc to BBC dataset\n",
    "\n",
    "# Query Using kneighbors \n",
    "\n",
    "# Inspect Most relevant result"
   ]
  },
  {
   "cell_type": "markdown",
   "metadata": {},
   "source": [
    "## Challenge\n",
    "\n",
    "In the module project assignment, you will apply one of these search techniques to retrieve documents related to a query document. "
   ]
  },
  {
   "cell_type": "markdown",
   "metadata": {},
   "source": [
    "# Apply word embedding models to create document vectors (Learn)\n",
    "<a id=\"p3\"></a>"
   ]
  },
  {
   "cell_type": "markdown",
   "metadata": {},
   "source": [
    "## Overview\n",
    "### BoW discards textual context\n",
    "\n",
    "One of the limitations of Bag-of-Words approaches is that any information about the textual context surrounding that word is lost. This also means that with bag-of-words approaches often the only tools that we have for identifying words with similar usage or meaning and subsequently consolidating them into a single vector is through the processes of stemming and lemmatization which tend to be quite limited at consolidating words unless the two words are very close in their spelling or in their root parts-of-speech.\n",
    "\n",
    "### Embedding approaches preserve more textual context\n",
    "Word2Vec is an increasingly popular word embedding technique. Like Bag-of-words it learns a real-value vector representation for a predefined fixed-size vocabulary that is generated from a corpus of text. However, in contrast to BoW, Word2Vec approaches are much more capable of accounting for textual context, and are better at discovering words with similar meanings or usages (semantic or syntactic similarity).\n",
    "\n",
    "### Word2Vec Intuition\n",
    "### The Distribution Hypothesis\n",
    "\n",
    "In order to understand how Word2Vec preserves textual context we have to understand what's called the Distribution Hypothesis (Reference: Distribution Hypothesis Theory  -https://en.wikipedia.org/wiki/Distributional_semantics. The Distribution Hypothesis operates under the assumption that words that have similar contexts will have similar meanings. Practically speaking, this means that if two words are found to have similar words both to the right and to the left of them throughout the corpora then those words have the same context and are assumed to have the same meaning. \n",
    "\n",
    "> \"You shall know a word by the company it keeps\" - John Firth\n",
    "\n",
    "This means that we let the usage of a word define its meaning and its \"similarity\" to other words. In the following example, which words would you say have a similar meaning? \n",
    "\n",
    "**Sentence 1**: Traffic was light today\n",
    "\n",
    "**Sentence 2**: Traffic was heavy yesterday\n",
    "\n",
    "**Sentence 3**: Prediction is that traffic will be smooth-flowing tomorrow since it is a national holiday\n",
    "\n",
    "What words in the above sentences seem to have a similar meaning if all you knew about them was the context in which they appeared above? \n",
    "\n",
    "Lets take a look at how this might work in action, the following example is simplified, but will give you an idea of the intuition for how this works.\n",
    "\n",
    "#### Corpora:\n",
    "\n",
    "1) \"It was the sunniest of days.\"\n",
    "\n",
    "2) \"It was the raniest of days.\"\n",
    "\n",
    "#### Vocabulary:\n",
    "\n",
    "{\"it\": 1, \"was\": 2, \"the\": 3, \"of\": 4, \"days\": 5, \"sunniest\": 6, \"raniest\": 7}\n",
    "\n",
    "### Vectorization\n",
    "\n",
    "|       doc   | START_was | it_the | was_sunniest | the_of | sunniest_days | of_it | days_was | it_the | was_raniest | raniest_days | of_END |\n",
    "|----------|-----------|--------|--------------|--------|---------------|-------|----------|--------|-------------|--------------|--------|\n",
    "| it       | 1         | 0      | 0            | 0      | 0             | 0     | 1        | 0      | 0           | 0            | 0      |\n",
    "| was      | 0         | 1      | 0            | 0      | 0             | 0     | 0        | 1      | 0           | 0            | 0      |\n",
    "| the      | 0         | 0      | 1            | 0      | 0             | 0     | 0        | 0      | 1           | 0            | 0      |\n",
    "| sunniest | 0         | 0      | 0            | 1      | 0             | 0     | 0        | 0      | 0           | 0            | 0      |\n",
    "| of       | 0         | 0      | 0            | 0      | 1             | 0     | 0        | 0      | 0           | 1            | 0      |\n",
    "| days     | 0         | 0      | 0            | 0      | 0             | 0     | 0        | 0      | 0           | 0            | 1      |\n",
    "| raniest  | 0         | 0      | 0            | 1      | 0             | 0     | 0        | 0      | 0           | 0            | 0      |\n",
    "\n",
    "Each column vector represents the word's context -in this case defined by the words to the left and right of the center word. How far we look to the left and right of a given word is referred to as our \"window of context.\" Each row vector represents the the different usages of a given word. Word2Vec can consider a larger context than only words that are immediately to the left and right of a given word, but we're going to keep our window of context small for this example. What's most important is that this vectorization has translated our documents from a text representation to a numeric one in a way that preserves information about the underlying context. \n",
    "\n",
    "We can see that words that have a similar context will have similar row-vector representations, but before looking that more in-depth, lets simplify our vectorization slightly. You'll notice that we're repeating the column-vector \"it_the\" twice. Lets combine those into a single vector by adding them element-wise. \n",
    "\n",
    "|       *   | START_was | it_the | was_sunniest | the_of | sunniest_days | of_it | days_was | was_raniest | raniest_days | of_END |\n",
    "|----------|-----------|--------|--------------|--------|---------------|-------|----------|-------------|--------------|--------|\n",
    "| it       | 1         | 0      | 0            | 0      | 0             | 0     | 1        | 0           | 0            | 0      |\n",
    "| was      | 0         | 2      | 0            | 0      | 0             | 0     | 0        | 0           | 0            | 0      |\n",
    "| the      | 0         | 0      | 1            | 0      | 0             | 0     | 0        | 1           | 0            | 0      |\n",
    "| sunniest | 0         | 0      | 0            | 1      | 0             | 0     | 0        | 0           | 0            | 0      |\n",
    "| of       | 0         | 0      | 0            | 0      | 1             | 0     | 0        | 0           | 1            | 0      |\n",
    "| days     | 0         | 0      | 0            | 0      | 0             | 0     | 0        | 0           | 0            | 1      |\n",
    "| raniest  | 0         | 0      | 0            | 1      | 0             | 0     | 0        | 0           | 0            | 0      |\n",
    "\n",
    "Now, can you spot which words have a similar row-vector representation? Hint: Look for values that are repeated in a given column. Each column represents the context that word was found in. If there are multiple words that share a context then those words are understood to have a closer meaning with each other than with other words in the text.\n",
    "\n",
    "Lets look specifically at the words sunniest and raniest. You'll notice that these two words have exactly the same 10-dimensional vector representation. Based on this very small corpora of text we would conclude that these two words have the same meaning because they share the same usage. Is this a good assumption? Well, they are both referring to the weather outside so that's better than nothing. You could imagine that as our corpora grows larger we will be exposed a greater number of contexts and the Distribution Hypothesis assumption will improve. \n",
    "\n",
    "### Word2Vec Variants\n",
    "\n",
    "#### Skip-Gram\n",
    "\n",
    "The Skip-Gram method predicts the neighbors’ of a word given a center word. In the skip-gram model, we take a center word and a window of context (neighbors) words to train the model and then predict context words out to some window size for each center word.\n",
    "\n",
    "This notion of “context” or “neighboring” words is best described by considering a center word and a window of words around it. \n",
    "\n",
    "For example, if we consider the sentence **“The speedy Porsche drove past the elegant Rolls-Royce”** and a window size of 2, we’d have the following pairs for the skip-gram model:\n",
    "\n",
    "**Text:**\n",
    "**The**\tspeedy\tPorsche\tdrove\tpast\tthe\telegant\tRolls-Royce\n",
    "\n",
    "*Training Sample with window of 2*: (the, speedy), (the, Porsche)\n",
    "\n",
    "**Text:**\n",
    "The\t**speedy**\tPorsche\tdrove\tpast\tthe\telegant\tRolls-Royce\n",
    "\n",
    "*Training Sample with window of 2*: (speedy, the), (speedy, Porsche), (speedy, drove)\n",
    "\n",
    "**Text:**\n",
    "The\tspeedy\t**Porsche**\tdrove\tpast\tthe\telegant\tRolls-Royce\n",
    "\n",
    "*Training Sample with window of 2*: (Porsche, the), (Porsche, speedy), (Porsche, drove), (Porsche, past)\n",
    "\n",
    "**Text:**\n",
    "The\tspeedy\tPorsche\t**drove**\tpast\tthe\telegant\tRolls-Royce\n",
    "\n",
    "*Training Sample with window of 2*: (drove, speedy), (drove, Porsche), (drove, past), (drove, the)\n",
    "\n",
    "The **Skip-gram model** is going to output a probability distribution i.e. the probability of a word appearing in context given a center word and we are going to select the vector representation that maximizes the probability.\n",
    "\n",
    "With CountVectorizer and TF-IDF the best we could do for context was to look at common bi-grams and tri-grams (n-grams). Well, skip-grams go far beyond that and give our model much stronger contextual information.\n",
    "\n",
    "![alt text](https://www.dropbox.com/s/c7mwy6dk9k99bgh/Image%202%20-%20SkipGrams.jpg?raw=1)\n",
    "\n",
    "## Continuous Bag of Words\n",
    "\n",
    "This model takes thes opposite approach from the skip-gram model in that it tries to predict a center word based on the neighboring words. In the case of the CBOW model, we input the context words within the window (such as “the”, “Proshe”, “drove”) and aim to predict the target or center word “speedy” (the input to the prediction pipeline is reversed as compared to the SkipGram model).\n",
    "\n",
    "A graphical depiction of the input to output prediction pipeline for both variants of the Word2vec model is attached. The graphical depiction will help crystallize the difference between SkipGrams and Continuous Bag of Words.\n",
    "\n",
    "![alt text](https://www.dropbox.com/s/k3ddmbtd52wq2li/Image%203%20-%20CBOW%20Model.jpg?raw=1)\n",
    "\n",
    "## Notable Differences between Word Embedding methods:\n",
    "\n",
    "1) W2V focuses less document topic-modeling. You'll notice that the vectorizations don't really retain much information about the original document that the information came from. At least not in our examples.\n",
    "\n",
    "2) W2V can result in really large and complex vectorizations. In fact, you need Deep Neural Networks to train your Word2Vec models from scratch, but we can use helpful pretrained embeddings (thank you Google) to do really cool things!\n",
    "\n",
    "*^ All that noise....AND Spacy has pretrained a Word2Vec model you can just use? WTF JC?*\n",
    "\n",
    "Let's take a look at how to do it. "
   ]
  },
  {
   "cell_type": "code",
   "execution_count": null,
   "metadata": {},
   "outputs": [],
   "source": [
    "# man + women - king = queen "
   ]
  },
  {
   "cell_type": "code",
   "execution_count": 125,
   "metadata": {
    "deletable": false,
    "nbgrader": {
     "cell_type": "code",
     "checksum": "ee10b86592ddda65744cba8c545b13c8",
     "grade": false,
     "grade_id": "cell-08acf3f0c46d7591",
     "locked": false,
     "schema_version": 3,
     "solution": true,
     "task": false
    }
   },
   "outputs": [
    {
     "data": {
      "text/plain": [
       "300"
      ]
     },
     "execution_count": 125,
     "metadata": {},
     "output_type": "execute_result"
    }
   ],
   "source": [
    "# Process a text\n",
    "nlp = spacy.load('en_core_web_lg')\n",
    "\n",
    "doc = nlp(\"bananas\")\n",
    "\n",
    "# Get the vector for the token \"bananas\"\n",
    "bananas_vector = doc.vector\n",
    "\n",
    "# 300-dim vector\n",
    "len(bananas_vector)"
   ]
  },
  {
   "cell_type": "code",
   "execution_count": 127,
   "metadata": {},
   "outputs": [
    {
     "data": {
      "text/plain": [
       "(300,)"
      ]
     },
     "execution_count": 127,
     "metadata": {},
     "output_type": "execute_result"
    }
   ],
   "source": [
    "# input data of 10,000 dim --> 300 min \n",
    "# added benefit of using w2v vectorizer is the dim reduction aspect \n",
    "bananas_vector.shape"
   ]
  },
  {
   "cell_type": "code",
   "execution_count": 128,
   "metadata": {
    "deletable": false,
    "nbgrader": {
     "cell_type": "code",
     "checksum": "bfaead90d88f3c1f050918c1103dd202",
     "grade": false,
     "grade_id": "cell-4a00f1280d6a3a32",
     "locked": false,
     "schema_version": 3,
     "solution": true,
     "task": false
    }
   },
   "outputs": [
    {
     "name": "stdout",
     "output_type": "stream",
     "text": [
      "0.8854426864247015\n"
     ]
    }
   ],
   "source": [
    "doc1 = nlp(\"It's a warm summer day at the park\")\n",
    "doc2 = nlp(\"I saw a dog today at the park.\")\n",
    "\n",
    "# since w2v only has word vectors in it's embeddings\n",
    "# doc vectors are created by averaging the word vectors in that doc\n",
    "\n",
    "# we can calculate the similarity between docs now! \n",
    "\n",
    "# Get the similarity of doc1 and doc2\n",
    "similarity = doc1.similarity(doc2)\n",
    "print(similarity)"
   ]
  },
  {
   "cell_type": "code",
   "execution_count": 130,
   "metadata": {
    "deletable": false,
    "nbgrader": {
     "cell_type": "code",
     "checksum": "253d2a4485eacc1bf3fc6c5fbc10b95f",
     "grade": false,
     "grade_id": "cell-c54d3921b438215d",
     "locked": false,
     "schema_version": 3,
     "solution": true,
     "task": false
    }
   },
   "outputs": [
    {
     "data": {
      "text/plain": [
       "array([[-0.28287489,  1.54745603],\n",
       "       [-0.20283168,  1.92956411],\n",
       "       [-1.83591349,  3.62426259],\n",
       "       [-0.89209618,  2.9589489 ],\n",
       "       [ 1.33584882,  1.43795709],\n",
       "       [ 3.09844382, -0.44106212],\n",
       "       [ 4.08349018, -0.35699992],\n",
       "       [ 0.33184441,  2.08879684],\n",
       "       [ 1.26317952,  1.09681789],\n",
       "       [ 1.41776112,  0.91942998],\n",
       "       [-4.02397593, -2.18495871],\n",
       "       [-3.04598331, -3.05385236],\n",
       "       [-2.03152097,  0.91405441],\n",
       "       [-3.3774163 , -1.35575768],\n",
       "       [ 1.86063194, -3.17047525],\n",
       "       [ 1.94119576, -3.24380739],\n",
       "       [ 0.36021719, -2.7103744 ]])"
      ]
     },
     "execution_count": 130,
     "metadata": {},
     "output_type": "execute_result"
    }
   ],
   "source": [
    "# import the PCA module from sklearn\n",
    "from sklearn.decomposition import PCA\n",
    "\n",
    "def get_word_vectors(words):\n",
    "    # converts a list of words into their word vectors\n",
    "    return [nlp(word).vector for word in words]\n",
    "\n",
    "words = ['machine learning', \n",
    "         'artificial intelligence', \n",
    "         'data', \n",
    "         'science', \n",
    "         'concrete', \n",
    "         'wood', \n",
    "         'marble', \n",
    "         'design',\n",
    "         'color', \n",
    "         'font', \n",
    "         \"car\", \"suv\", \"track\", \"race car\", \n",
    "         \"lion\", \"tiger\", \"cat\"]\n",
    "\n",
    "\n",
    "# intialise pca model and tell it to project data down onto 2 dimensions\n",
    "pca = PCA(n_components=2)\n",
    "\n",
    "# fit the pca model to our 300D data, this will work out which is the best \n",
    "# way to project the data down that will best maintain the relative distances \n",
    "# between data points. It will store these intructioons on how to transform the data.\n",
    "pca.fit(get_word_vectors(words))\n",
    "\n",
    "# Tell our (fitted) pca model to transform our 300D data down onto 2D using the \n",
    "# instructions it learnt during the fit phase.\n",
    "word_vecs_2d = pca.transform(get_word_vectors(words))\n",
    "\n",
    "# let's look at our new 2D word vectors\n",
    "word_vecs_2d\n"
   ]
  },
  {
   "cell_type": "code",
   "execution_count": 132,
   "metadata": {},
   "outputs": [
    {
     "data": {
      "image/png": "[encoded data removed]",
      "text/plain": [
       "<Figure size 1440x1080 with 1 Axes>"
      ]
     },
     "metadata": {
      "needs_background": "light"
     },
     "output_type": "display_data"
    }
   ],
   "source": [
    "# create a nice big plot \n",
    "plt.figure(figsize=(20,15))\n",
    "\n",
    "# plot the scatter plot of where the words will be\n",
    "plt.scatter(word_vecs_2d[:,0], word_vecs_2d[:,1])\n",
    "\n",
    "# for each word and coordinate pair: draw the text on the plot\n",
    "for word, coord in zip(words, word_vecs_2d):\n",
    "    x, y = coord\n",
    "    plt.text(x, y, word, size= 15)\n",
    "\n",
    "# show the plot|\n",
    "plt.grid();\n",
    "plt.show()"
   ]
  },
  {
   "cell_type": "markdown",
   "metadata": {},
   "source": [
    "## Man + Woman - King = Queen \n",
    "\n",
    "Check out [**this article**](https://blog.acolyer.org/2016/04/21/the-amazing-power-of-word-vectors/) which explores the above equation"
   ]
  },
  {
   "cell_type": "markdown",
   "metadata": {},
   "source": [
    "## Challenge\n",
    "\n",
    "You will extract word embeddings from documents using Spacy's pre-trained model in the upcoming module project. "
   ]
  },
  {
   "cell_type": "markdown",
   "metadata": {},
   "source": [
    "# Review\n",
    "For your module project assignment you will create vector representations of indeed.com Data Science job listings. You will then estimate a similarity model to perform searches for job descriptions. Get started with your [module project here](./LS_DS_412_Vector_Representations_Assignment.ipynb)"
   ]
  },
  {
   "cell_type": "markdown",
   "metadata": {},
   "source": [
    "# Sources\n",
    "\n",
    "* Spacy 101 - https://course.spacy.io\n",
    "* NLTK Book - https://www.nltk.org/book/\n",
    "* An Introduction to Information Retrieval - https://nlp.stanford.edu/IR-book/pdf/irbookonlinereading.pdf"
   ]
  }
 ],
 "metadata": {
  "kernelspec": {
   "display_name": "Python 3",
   "language": "python",
   "name": "python3"
  },
  "language_info": {
   "codemirror_mode": {
    "name": "ipython",
    "version": 3
   },
   "file_extension": ".py",
   "mimetype": "text/x-python",
   "name": "python",
   "nbconvert_exporter": "python",
   "pygments_lexer": "ipython3",
   "version": "3.8.7"
  }
 },
 "nbformat": 4,
 "nbformat_minor": 4
}
