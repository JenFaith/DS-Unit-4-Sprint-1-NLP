{
 "cells": [
  {
   "cell_type": "markdown",
   "metadata": {},
   "source": [
    "<img align=\"left\" src=\"https://lever-client-logos.s3.amazonaws.com/864372b1-534c-480e-acd5-9711f850815c-1524247202159.png\" width=200>\n",
    "<br></br>\n",
    "<br></br>\n",
    "\n",
    "# Natural Language Processing (NLP)\n",
    "## *Data Science Unit 4 Sprint 1 Assignment 1*\n",
    "\n",
    "Your goal in this assignment: find the attributes of the best & worst coffee shops in the dataset. The text is fairly raw: dates in the review, extra words in the `star_rating` column, etc. You'll probably want to clean that stuff up for a better analysis. \n",
    "\n",
    "Analyze the corpus of text using text visualizations of token frequency. Try cleaning the data as much as possible. Try the following techniques: \n",
    "- Lemmatization\n",
    "- Custom stopword removal\n",
    "\n",
    "Keep in mind the attributes of good tokens. Once you have a solid baseline, layer in the star rating in your visualization(s). Key part of this assignment - produce a write-up of the attributes of the best and worst coffee shops. Based on your analysis, what makes the best the best and the worst the worst. Use graphs and numbesr from your analysis to support your conclusions. There should be plenty of markdown cells! :coffee:"
   ]
  },
  {
   "cell_type": "code",
   "execution_count": 1,
   "metadata": {},
   "outputs": [
    {
     "data": {
      "text/html": [
       "\n",
       "        <iframe\n",
       "            width=\"400\"\n",
       "            height=\"300\"\n",
       "            src=\"https://www.youtube.com/embed/Jml7NVYm8cs\"\n",
       "            frameborder=\"0\"\n",
       "            allowfullscreen\n",
       "        ></iframe>\n",
       "        "
      ],
      "text/plain": [
       "<IPython.lib.display.YouTubeVideo at 0x10822d7c0>"
      ]
     },
     "execution_count": 1,
     "metadata": {},
     "output_type": "execute_result"
    }
   ],
   "source": [
    "from IPython.display import YouTubeVideo\n",
    "\n",
    "YouTubeVideo('Jml7NVYm8cs')"
   ]
  },
  {
   "cell_type": "code",
   "execution_count": 10,
   "metadata": {},
   "outputs": [
    {
     "data": {
      "text/plain": [
       "'/Users/jenniferquigley/DS22/DS-Unit-4-Sprint-1-NLP/module1-text-data'"
      ]
     },
     "execution_count": 10,
     "metadata": {},
     "output_type": "execute_result"
    }
   ],
   "source": [
    "%pwd"
   ]
  },
  {
   "cell_type": "code",
   "execution_count": 86,
   "metadata": {},
   "outputs": [],
   "source": [
    "import pandas as pd"
   ]
  },
  {
   "cell_type": "code",
   "execution_count": 95,
   "metadata": {
    "scrolled": false
   },
   "outputs": [
    {
     "data": {
      "text/html": [
       "<div>\n",
       "<style scoped>\n",
       "    .dataframe tbody tr th:only-of-type {\n",
       "        vertical-align: middle;\n",
       "    }\n",
       "\n",
       "    .dataframe tbody tr th {\n",
       "        vertical-align: top;\n",
       "    }\n",
       "\n",
       "    .dataframe thead th {\n",
       "        text-align: right;\n",
       "    }\n",
       "</style>\n",
       "<table border=\"1\" class=\"dataframe\">\n",
       "  <thead>\n",
       "    <tr style=\"text-align: right;\">\n",
       "      <th></th>\n",
       "      <th>coffee_shop_name</th>\n",
       "      <th>full_review_text</th>\n",
       "      <th>star_rating</th>\n",
       "    </tr>\n",
       "  </thead>\n",
       "  <tbody>\n",
       "    <tr>\n",
       "      <th>0</th>\n",
       "      <td>The Factory - Cafe With a Soul</td>\n",
       "      <td>11/25/2016 1 check-in Love love loved the atm...</td>\n",
       "      <td>5.0 star rating</td>\n",
       "    </tr>\n",
       "    <tr>\n",
       "      <th>1</th>\n",
       "      <td>The Factory - Cafe With a Soul</td>\n",
       "      <td>12/2/2016 Listed in Date Night: Austin, Ambia...</td>\n",
       "      <td>4.0 star rating</td>\n",
       "    </tr>\n",
       "    <tr>\n",
       "      <th>2</th>\n",
       "      <td>The Factory - Cafe With a Soul</td>\n",
       "      <td>11/30/2016 1 check-in Listed in Brunch Spots ...</td>\n",
       "      <td>4.0 star rating</td>\n",
       "    </tr>\n",
       "    <tr>\n",
       "      <th>3</th>\n",
       "      <td>The Factory - Cafe With a Soul</td>\n",
       "      <td>11/25/2016 Very cool decor! Good drinks Nice ...</td>\n",
       "      <td>2.0 star rating</td>\n",
       "    </tr>\n",
       "    <tr>\n",
       "      <th>4</th>\n",
       "      <td>The Factory - Cafe With a Soul</td>\n",
       "      <td>12/3/2016 1 check-in They are located within ...</td>\n",
       "      <td>4.0 star rating</td>\n",
       "    </tr>\n",
       "  </tbody>\n",
       "</table>\n",
       "</div>"
      ],
      "text/plain": [
       "                  coffee_shop_name  \\\n",
       "0  The Factory - Cafe With a Soul    \n",
       "1  The Factory - Cafe With a Soul    \n",
       "2  The Factory - Cafe With a Soul    \n",
       "3  The Factory - Cafe With a Soul    \n",
       "4  The Factory - Cafe With a Soul    \n",
       "\n",
       "                                    full_review_text        star_rating  \n",
       "0   11/25/2016 1 check-in Love love loved the atm...   5.0 star rating   \n",
       "1   12/2/2016 Listed in Date Night: Austin, Ambia...   4.0 star rating   \n",
       "2   11/30/2016 1 check-in Listed in Brunch Spots ...   4.0 star rating   \n",
       "3   11/25/2016 Very cool decor! Good drinks Nice ...   2.0 star rating   \n",
       "4   12/3/2016 1 check-in They are located within ...   4.0 star rating   "
      ]
     },
     "execution_count": 95,
     "metadata": {},
     "output_type": "execute_result"
    }
   ],
   "source": [
    "url = \"https://raw.githubusercontent.com/LambdaSchool/DS-Unit-4-Sprint-1-NLP/main/module1-text-data/data/yelp_coffeeshop_review_data.csv\"\n",
    "\n",
    "shops = pd.read_csv(\"https://raw.githubusercontent.com/LambdaSchool/DS-Unit-4-Sprint-1-NLP/main/module1-text-data/data/yelp_coffeeshop_review_data.csv\")\n",
    "shops.head()"
   ]
  },
  {
   "cell_type": "code",
   "execution_count": 96,
   "metadata": {},
   "outputs": [],
   "source": [
    "# Cleaning Data The Long Way First For Understanding"
   ]
  },
  {
   "cell_type": "code",
   "execution_count": 97,
   "metadata": {},
   "outputs": [
    {
     "data": {
      "text/plain": [
       "7616"
      ]
     },
     "execution_count": 97,
     "metadata": {},
     "output_type": "execute_result"
    }
   ],
   "source": [
    "shops.coffee_shop_name.value_counts().sum()"
   ]
  },
  {
   "cell_type": "code",
   "execution_count": 98,
   "metadata": {},
   "outputs": [],
   "source": [
    "shops['coffee_shop_name'] = shops['coffee_shop_name'].apply(lambda text: text.lower())"
   ]
  },
  {
   "cell_type": "code",
   "execution_count": 99,
   "metadata": {},
   "outputs": [],
   "source": [
    "shops['full_review_text'] = shops['full_review_text'].apply(lambda text: text.lower())"
   ]
  },
  {
   "cell_type": "code",
   "execution_count": 100,
   "metadata": {},
   "outputs": [
    {
     "data": {
      "text/html": [
       "<div>\n",
       "<style scoped>\n",
       "    .dataframe tbody tr th:only-of-type {\n",
       "        vertical-align: middle;\n",
       "    }\n",
       "\n",
       "    .dataframe tbody tr th {\n",
       "        vertical-align: top;\n",
       "    }\n",
       "\n",
       "    .dataframe thead th {\n",
       "        text-align: right;\n",
       "    }\n",
       "</style>\n",
       "<table border=\"1\" class=\"dataframe\">\n",
       "  <thead>\n",
       "    <tr style=\"text-align: right;\">\n",
       "      <th></th>\n",
       "      <th>coffee_shop_name</th>\n",
       "      <th>full_review_text</th>\n",
       "      <th>star_rating</th>\n",
       "    </tr>\n",
       "  </thead>\n",
       "  <tbody>\n",
       "    <tr>\n",
       "      <th>0</th>\n",
       "      <td>the factory - cafe with a soul</td>\n",
       "      <td>11/25/2016 1 check-in love love loved the atm...</td>\n",
       "      <td>5.0 star rating</td>\n",
       "    </tr>\n",
       "    <tr>\n",
       "      <th>1</th>\n",
       "      <td>the factory - cafe with a soul</td>\n",
       "      <td>12/2/2016 listed in date night: austin, ambia...</td>\n",
       "      <td>4.0 star rating</td>\n",
       "    </tr>\n",
       "    <tr>\n",
       "      <th>2</th>\n",
       "      <td>the factory - cafe with a soul</td>\n",
       "      <td>11/30/2016 1 check-in listed in brunch spots ...</td>\n",
       "      <td>4.0 star rating</td>\n",
       "    </tr>\n",
       "    <tr>\n",
       "      <th>3</th>\n",
       "      <td>the factory - cafe with a soul</td>\n",
       "      <td>11/25/2016 very cool decor! good drinks nice ...</td>\n",
       "      <td>2.0 star rating</td>\n",
       "    </tr>\n",
       "    <tr>\n",
       "      <th>4</th>\n",
       "      <td>the factory - cafe with a soul</td>\n",
       "      <td>12/3/2016 1 check-in they are located within ...</td>\n",
       "      <td>4.0 star rating</td>\n",
       "    </tr>\n",
       "  </tbody>\n",
       "</table>\n",
       "</div>"
      ],
      "text/plain": [
       "                  coffee_shop_name  \\\n",
       "0  the factory - cafe with a soul    \n",
       "1  the factory - cafe with a soul    \n",
       "2  the factory - cafe with a soul    \n",
       "3  the factory - cafe with a soul    \n",
       "4  the factory - cafe with a soul    \n",
       "\n",
       "                                    full_review_text        star_rating  \n",
       "0   11/25/2016 1 check-in love love loved the atm...   5.0 star rating   \n",
       "1   12/2/2016 listed in date night: austin, ambia...   4.0 star rating   \n",
       "2   11/30/2016 1 check-in listed in brunch spots ...   4.0 star rating   \n",
       "3   11/25/2016 very cool decor! good drinks nice ...   2.0 star rating   \n",
       "4   12/3/2016 1 check-in they are located within ...   4.0 star rating   "
      ]
     },
     "execution_count": 100,
     "metadata": {},
     "output_type": "execute_result"
    }
   ],
   "source": [
    "shops.head()"
   ]
  },
  {
   "cell_type": "code",
   "execution_count": 101,
   "metadata": {},
   "outputs": [],
   "source": [
    "text_example = shops['full_review_text'][1]"
   ]
  },
  {
   "cell_type": "code",
   "execution_count": 102,
   "metadata": {},
   "outputs": [
    {
     "data": {
      "text/plain": [
       "' 12/2/2016 listed in date night: austin, ambiance in austin beautiful!!!! love the ambiance! instagram-worthy!!!  definitely $$$, so be prepared. this is gonna cost you a pretty penny :) waffle dessert was just decent...nothing to rave about.  but, will probably be back just to be somewhere unique and nice. '"
      ]
     },
     "execution_count": 102,
     "metadata": {},
     "output_type": "execute_result"
    }
   ],
   "source": [
    "text_example"
   ]
  },
  {
   "cell_type": "code",
   "execution_count": 103,
   "metadata": {},
   "outputs": [],
   "source": [
    "import re"
   ]
  },
  {
   "cell_type": "code",
   "execution_count": 137,
   "metadata": {},
   "outputs": [],
   "source": [
    "def clean_text(text):\n",
    "    \"\"\"\n",
    "    Remove all punctuation.\n",
    "    Lowercase all text.\n",
    "    Remove numbers.\n",
    "    \"\"\"\n",
    "    # Lowercase\n",
    "    text = text.lower()\n",
    "    \n",
    "    # Remove punctuation\n",
    "    text = re.sub('[^a-z ]', '', text)\n",
    "    #What is '' doing??\n",
    "    \n",
    "    # splits tokens\n",
    "    text = text.split(\" \")\n",
    "    \n",
    "    # return list\n",
    "    tokens = list(text)\n",
    "    \n",
    "    return tokens"
   ]
  },
  {
   "cell_type": "code",
   "execution_count": 138,
   "metadata": {},
   "outputs": [
    {
     "data": {
      "text/plain": [
       "['',\n",
       " '',\n",
       " 'listed',\n",
       " 'in',\n",
       " 'date',\n",
       " 'night',\n",
       " 'austin',\n",
       " 'ambiance',\n",
       " 'in',\n",
       " 'austin',\n",
       " 'beautiful',\n",
       " 'love',\n",
       " 'the',\n",
       " 'ambiance',\n",
       " 'instagramworthy',\n",
       " '',\n",
       " 'definitely',\n",
       " '',\n",
       " 'so',\n",
       " 'be',\n",
       " 'prepared',\n",
       " 'this',\n",
       " 'is',\n",
       " 'gonna',\n",
       " 'cost',\n",
       " 'you',\n",
       " 'a',\n",
       " 'pretty',\n",
       " 'penny',\n",
       " '',\n",
       " 'waffle',\n",
       " 'dessert',\n",
       " 'was',\n",
       " 'just',\n",
       " 'decentnothing',\n",
       " 'to',\n",
       " 'rave',\n",
       " 'about',\n",
       " '',\n",
       " 'but',\n",
       " 'will',\n",
       " 'probably',\n",
       " 'be',\n",
       " 'back',\n",
       " 'just',\n",
       " 'to',\n",
       " 'be',\n",
       " 'somewhere',\n",
       " 'unique',\n",
       " 'and',\n",
       " 'nice',\n",
       " '']"
      ]
     },
     "execution_count": 138,
     "metadata": {},
     "output_type": "execute_result"
    }
   ],
   "source": [
    "clean_text(text_example)"
   ]
  },
  {
   "cell_type": "code",
   "execution_count": 106,
   "metadata": {},
   "outputs": [],
   "source": [
    "shops[\"tokens\"] = shops[\"full_review_text\"].apply(lambda text: clean_text(text))"
   ]
  },
  {
   "cell_type": "code",
   "execution_count": 107,
   "metadata": {},
   "outputs": [],
   "source": [
    "# Start here "
   ]
  },
  {
   "cell_type": "markdown",
   "metadata": {},
   "source": [
    "## How do we want to analyze these coffee shop tokens? \n",
    "\n",
    "- Overall Word / Token Count\n",
    "- View Counts by Rating \n",
    "- *Hint:* a 'bad' coffee shops has a rating betweeen 1 & 3 based on the distribution of ratings. A 'good' coffee shop is a 4 or 5. "
   ]
  },
  {
   "cell_type": "code",
   "execution_count": 108,
   "metadata": {},
   "outputs": [],
   "source": [
    "\"\"\"\n",
    "Import Statements\n",
    "\"\"\"\n",
    "\n",
    "# Base\n",
    "from collections import Counter\n",
    "import re\n",
    " \n",
    "import pandas as pd\n",
    "\n",
    "# Plotting\n",
    "import squarify\n",
    "import matplotlib.pyplot as plt\n",
    "import seaborn as sns\n",
    "\n",
    "# NLP Libraries\n",
    "import spacy\n",
    "from spacy.tokenizer import Tokenizer\n",
    "from nltk.stem import PorterStemmer\n",
    "\n",
    "nlp = spacy.load('en_core_web_lg')"
   ]
  },
  {
   "cell_type": "code",
   "execution_count": 109,
   "metadata": {},
   "outputs": [
    {
     "data": {
      "text/html": [
       "<div>\n",
       "<style scoped>\n",
       "    .dataframe tbody tr th:only-of-type {\n",
       "        vertical-align: middle;\n",
       "    }\n",
       "\n",
       "    .dataframe tbody tr th {\n",
       "        vertical-align: top;\n",
       "    }\n",
       "\n",
       "    .dataframe thead th {\n",
       "        text-align: right;\n",
       "    }\n",
       "</style>\n",
       "<table border=\"1\" class=\"dataframe\">\n",
       "  <thead>\n",
       "    <tr style=\"text-align: right;\">\n",
       "      <th></th>\n",
       "      <th>coffee_shop_name</th>\n",
       "      <th>full_review_text</th>\n",
       "      <th>star_rating</th>\n",
       "      <th>tokens</th>\n",
       "    </tr>\n",
       "  </thead>\n",
       "  <tbody>\n",
       "    <tr>\n",
       "      <th>0</th>\n",
       "      <td>the factory - cafe with a soul</td>\n",
       "      <td>11/25/2016 1 check-in love love loved the atm...</td>\n",
       "      <td>5.0 star rating</td>\n",
       "      <td>[, , , checkin, love, love, loved, the, atmosp...</td>\n",
       "    </tr>\n",
       "    <tr>\n",
       "      <th>1</th>\n",
       "      <td>the factory - cafe with a soul</td>\n",
       "      <td>12/2/2016 listed in date night: austin, ambia...</td>\n",
       "      <td>4.0 star rating</td>\n",
       "      <td>[, , listed, in, date, night, austin, ambiance...</td>\n",
       "    </tr>\n",
       "  </tbody>\n",
       "</table>\n",
       "</div>"
      ],
      "text/plain": [
       "                  coffee_shop_name  \\\n",
       "0  the factory - cafe with a soul    \n",
       "1  the factory - cafe with a soul    \n",
       "\n",
       "                                    full_review_text        star_rating  \\\n",
       "0   11/25/2016 1 check-in love love loved the atm...   5.0 star rating    \n",
       "1   12/2/2016 listed in date night: austin, ambia...   4.0 star rating    \n",
       "\n",
       "                                              tokens  \n",
       "0  [, , , checkin, love, love, loved, the, atmosp...  \n",
       "1  [, , listed, in, date, night, austin, ambiance...  "
      ]
     },
     "execution_count": 109,
     "metadata": {},
     "output_type": "execute_result"
    }
   ],
   "source": [
    "shops.head(2)"
   ]
  },
  {
   "cell_type": "code",
   "execution_count": 110,
   "metadata": {},
   "outputs": [
    {
     "data": {
      "text/html": [
       "<div>\n",
       "<style scoped>\n",
       "    .dataframe tbody tr th:only-of-type {\n",
       "        vertical-align: middle;\n",
       "    }\n",
       "\n",
       "    .dataframe tbody tr th {\n",
       "        vertical-align: top;\n",
       "    }\n",
       "\n",
       "    .dataframe thead th {\n",
       "        text-align: right;\n",
       "    }\n",
       "</style>\n",
       "<table border=\"1\" class=\"dataframe\">\n",
       "  <thead>\n",
       "    <tr style=\"text-align: right;\">\n",
       "      <th></th>\n",
       "      <th>index</th>\n",
       "      <th>star_rating</th>\n",
       "    </tr>\n",
       "  </thead>\n",
       "  <tbody>\n",
       "    <tr>\n",
       "      <th>0</th>\n",
       "      <td>5.0 star rating</td>\n",
       "      <td>3780</td>\n",
       "    </tr>\n",
       "    <tr>\n",
       "      <th>1</th>\n",
       "      <td>4.0 star rating</td>\n",
       "      <td>2360</td>\n",
       "    </tr>\n",
       "    <tr>\n",
       "      <th>2</th>\n",
       "      <td>3.0 star rating</td>\n",
       "      <td>738</td>\n",
       "    </tr>\n",
       "    <tr>\n",
       "      <th>3</th>\n",
       "      <td>2.0 star rating</td>\n",
       "      <td>460</td>\n",
       "    </tr>\n",
       "    <tr>\n",
       "      <th>4</th>\n",
       "      <td>1.0 star rating</td>\n",
       "      <td>278</td>\n",
       "    </tr>\n",
       "  </tbody>\n",
       "</table>\n",
       "</div>"
      ],
      "text/plain": [
       "               index  star_rating\n",
       "0   5.0 star rating          3780\n",
       "1   4.0 star rating          2360\n",
       "2   3.0 star rating           738\n",
       "3   2.0 star rating           460\n",
       "4   1.0 star rating           278"
      ]
     },
     "execution_count": 110,
     "metadata": {},
     "output_type": "execute_result"
    }
   ],
   "source": [
    "# Looking at number of star ratings\n",
    "\n",
    "shops_ratings = shops.star_rating.value_counts().to_frame().reset_index()\n",
    "shops_ratings.head()"
   ]
  },
  {
   "cell_type": "code",
   "execution_count": 111,
   "metadata": {},
   "outputs": [],
   "source": [
    "# recreating the long way of doing this for practice & understanding\n",
    "\n",
    "def count(tokens):\n",
    "    \"\"\"\n",
    "    Calculates some basic statistics about tokens in our corpus (i.e. corpus means collections text data)\n",
    "    \"\"\"\n",
    "    # stores the count of each token\n",
    "    word_counts = Counter()\n",
    "    \n",
    "    # stores the number of docs that each token appears in \n",
    "    appears_in = Counter()\n",
    "\n",
    "    total_docs = len(tokens)\n",
    "\n",
    "    for token in tokens:\n",
    "        # stores count of every appearance of a token \n",
    "        word_counts.update(token)\n",
    "        # use set() in order to not count duplicates, thereby count the num of docs that each token appears in\n",
    "        appears_in.update(set(token))\n",
    "\n",
    "    # build word count dataframe\n",
    "    temp = zip(word_counts.keys(), word_counts.values())\n",
    "    wc = pd.DataFrame(temp, columns = ['word', 'count'])\n",
    "\n",
    "    # rank the the word counts\n",
    "    wc['rank'] = wc['count'].rank(method='first', ascending=False)\n",
    "    total = wc['count'].sum()\n",
    "\n",
    "    # calculate the percent total of each token\n",
    "    wc['pct_total'] = wc['count'].apply(lambda token_count: token_count / total)\n",
    "\n",
    "    # calculate the cumulative percent total of word counts \n",
    "    wc = wc.sort_values(by='rank')\n",
    "    wc['cul_pct_total'] = wc['pct_total'].cumsum()\n",
    "\n",
    "    # create dataframe for document stats\n",
    "    t2 = zip(appears_in.keys(), appears_in.values())\n",
    "    ac = pd.DataFrame(t2, columns=['word', 'appears_in'])\n",
    "    \n",
    "    # merge word count stats with doc stats\n",
    "    wc = ac.merge(wc, on='word')\n",
    "    \n",
    "    # percent of docs that a token appears in\n",
    "    wc['appears_in_pct'] = wc['appears_in'].apply(lambda x: x / total_docs)\n",
    "\n",
    "    return wc.sort_values(by='rank')"
   ]
  },
  {
   "cell_type": "code",
   "execution_count": 112,
   "metadata": {},
   "outputs": [
    {
     "data": {
      "text/html": [
       "<div>\n",
       "<style scoped>\n",
       "    .dataframe tbody tr th:only-of-type {\n",
       "        vertical-align: middle;\n",
       "    }\n",
       "\n",
       "    .dataframe tbody tr th {\n",
       "        vertical-align: top;\n",
       "    }\n",
       "\n",
       "    .dataframe thead th {\n",
       "        text-align: right;\n",
       "    }\n",
       "</style>\n",
       "<table border=\"1\" class=\"dataframe\">\n",
       "  <thead>\n",
       "    <tr style=\"text-align: right;\">\n",
       "      <th></th>\n",
       "      <th>word</th>\n",
       "      <th>appears_in</th>\n",
       "      <th>count</th>\n",
       "      <th>rank</th>\n",
       "      <th>pct_total</th>\n",
       "      <th>cul_pct_total</th>\n",
       "      <th>appears_in_pct</th>\n",
       "    </tr>\n",
       "  </thead>\n",
       "  <tbody>\n",
       "    <tr>\n",
       "      <th>0</th>\n",
       "      <td></td>\n",
       "      <td>7616</td>\n",
       "      <td>52191</td>\n",
       "      <td>1.0</td>\n",
       "      <td>0.063748</td>\n",
       "      <td>0.063748</td>\n",
       "      <td>1.000000</td>\n",
       "    </tr>\n",
       "    <tr>\n",
       "      <th>22</th>\n",
       "      <td>the</td>\n",
       "      <td>6847</td>\n",
       "      <td>34809</td>\n",
       "      <td>2.0</td>\n",
       "      <td>0.042517</td>\n",
       "      <td>0.106264</td>\n",
       "      <td>0.899028</td>\n",
       "    </tr>\n",
       "    <tr>\n",
       "      <th>1</th>\n",
       "      <td>and</td>\n",
       "      <td>6864</td>\n",
       "      <td>26651</td>\n",
       "      <td>3.0</td>\n",
       "      <td>0.032552</td>\n",
       "      <td>0.138816</td>\n",
       "      <td>0.901261</td>\n",
       "    </tr>\n",
       "    <tr>\n",
       "      <th>19</th>\n",
       "      <td>a</td>\n",
       "      <td>6246</td>\n",
       "      <td>22756</td>\n",
       "      <td>4.0</td>\n",
       "      <td>0.027795</td>\n",
       "      <td>0.166611</td>\n",
       "      <td>0.820116</td>\n",
       "    </tr>\n",
       "    <tr>\n",
       "      <th>12</th>\n",
       "      <td>i</td>\n",
       "      <td>5532</td>\n",
       "      <td>20249</td>\n",
       "      <td>5.0</td>\n",
       "      <td>0.024733</td>\n",
       "      <td>0.191344</td>\n",
       "      <td>0.726366</td>\n",
       "    </tr>\n",
       "  </tbody>\n",
       "</table>\n",
       "</div>"
      ],
      "text/plain": [
       "   word  appears_in  count  rank  pct_total  cul_pct_total  appears_in_pct\n",
       "0              7616  52191   1.0   0.063748       0.063748        1.000000\n",
       "22  the        6847  34809   2.0   0.042517       0.106264        0.899028\n",
       "1   and        6864  26651   3.0   0.032552       0.138816        0.901261\n",
       "19    a        6246  22756   4.0   0.027795       0.166611        0.820116\n",
       "12    i        5532  20249   5.0   0.024733       0.191344        0.726366"
      ]
     },
     "execution_count": 112,
     "metadata": {},
     "output_type": "execute_result"
    }
   ],
   "source": [
    "wc  = count(shops['tokens'])\n",
    "wc.head()"
   ]
  },
  {
   "cell_type": "code",
   "execution_count": 113,
   "metadata": {},
   "outputs": [
    {
     "data": {
      "image/png": "[encoded data removed]",
      "text/plain": [
       "<Figure size 432x288 with 1 Axes>"
      ]
     },
     "metadata": {
      "needs_background": "light"
     },
     "output_type": "display_data"
    }
   ],
   "source": [
    "sns.lineplot(x='rank', y='cul_pct_total', data=wc);"
   ]
  },
  {
   "cell_type": "code",
   "execution_count": 114,
   "metadata": {},
   "outputs": [
    {
     "data": {
      "image/png": "[encoded data removed]",
      "text/plain": [
       "<Figure size 432x288 with 1 Axes>"
      ]
     },
     "metadata": {
      "needs_background": "light"
     },
     "output_type": "display_data"
    }
   ],
   "source": [
    "# Before I cleaned the data...\n",
    "\n",
    "import squarify\n",
    "import matplotlib.pyplot as plt\n",
    "\n",
    "wc_top20 = wc[wc['rank'] <= 20]\n",
    "\n",
    "squarify.plot(sizes=wc_top20['pct_total'], label=wc_top20['word'], alpha=.8 )\n",
    "plt.axis('off')\n",
    "plt.show()"
   ]
  },
  {
   "cell_type": "code",
   "execution_count": 139,
   "metadata": {},
   "outputs": [],
   "source": [
    "STOP_WORDS = nlp.Defaults.stop_words.union(['little', 'love', '1', 'nice', 'great', ' '])"
   ]
  },
  {
   "cell_type": "code",
   "execution_count": 154,
   "metadata": {},
   "outputs": [
    {
     "data": {
      "image/png": "[encoded data removed]",
      "text/plain": [
       "<Figure size 432x288 with 1 Axes>"
      ]
     },
     "metadata": {
      "needs_background": "light"
     },
     "output_type": "display_data"
    }
   ],
   "source": [
    "tokens = []\n",
    "\n",
    "\"\"\" Update those tokens w/o stopwords\"\"\"\n",
    "for doc in nlp.pipe(shops['full_review_text'], batch_size=500):\n",
    "    \n",
    "    doc_tokens = []\n",
    "    \n",
    "    for token in doc:\n",
    "        if (token.is_stop == False) & (token.is_punct == False) & (token.text.lower() not in STOP_WORDS):\n",
    "            doc_tokens.append(token.text.lower())\n",
    "            \n",
    "    tokens.append(doc_tokens)\n",
    "    \n",
    "shops['tokens'] = tokens\n",
    "\n",
    "# pass tokens through count function\n",
    "wc = count(shops['tokens'])\n",
    "\n",
    "# sort and keep the top 20 words\n",
    "wc_top20 = wc[wc['rank'] <= 20]\n",
    "\n",
    "# plot the stats\n",
    "squarify.plot(sizes=wc_top20['pct_total'], label=wc_top20['word'], alpha=.8 )\n",
    "plt.axis('off')\n",
    "plt.show()"
   ]
  },
  {
   "cell_type": "code",
   "execution_count": 152,
   "metadata": {},
   "outputs": [
    {
     "data": {
      "text/html": [
       "<div>\n",
       "<style scoped>\n",
       "    .dataframe tbody tr th:only-of-type {\n",
       "        vertical-align: middle;\n",
       "    }\n",
       "\n",
       "    .dataframe tbody tr th {\n",
       "        vertical-align: top;\n",
       "    }\n",
       "\n",
       "    .dataframe thead th {\n",
       "        text-align: right;\n",
       "    }\n",
       "</style>\n",
       "<table border=\"1\" class=\"dataframe\">\n",
       "  <thead>\n",
       "    <tr style=\"text-align: right;\">\n",
       "      <th></th>\n",
       "      <th>word</th>\n",
       "      <th>appears_in</th>\n",
       "      <th>count</th>\n",
       "      <th>rank</th>\n",
       "      <th>pct_total</th>\n",
       "      <th>cul_pct_total</th>\n",
       "      <th>appears_in_pct</th>\n",
       "    </tr>\n",
       "  </thead>\n",
       "  <tbody>\n",
       "    <tr>\n",
       "      <th>19584</th>\n",
       "      <td>roomier</td>\n",
       "      <td>1</td>\n",
       "      <td>1</td>\n",
       "      <td>19585.0</td>\n",
       "      <td>0.000003</td>\n",
       "      <td>0.999989</td>\n",
       "      <td>0.000131</td>\n",
       "    </tr>\n",
       "    <tr>\n",
       "      <th>19583</th>\n",
       "      <td>windowed</td>\n",
       "      <td>1</td>\n",
       "      <td>1</td>\n",
       "      <td>19586.0</td>\n",
       "      <td>0.000003</td>\n",
       "      <td>0.999992</td>\n",
       "      <td>0.000131</td>\n",
       "    </tr>\n",
       "    <tr>\n",
       "      <th>19586</th>\n",
       "      <td>actuality</td>\n",
       "      <td>1</td>\n",
       "      <td>1</td>\n",
       "      <td>19587.0</td>\n",
       "      <td>0.000003</td>\n",
       "      <td>0.999994</td>\n",
       "      <td>0.000131</td>\n",
       "    </tr>\n",
       "    <tr>\n",
       "      <th>19585</th>\n",
       "      <td>crass</td>\n",
       "      <td>1</td>\n",
       "      <td>1</td>\n",
       "      <td>19588.0</td>\n",
       "      <td>0.000003</td>\n",
       "      <td>0.999997</td>\n",
       "      <td>0.000131</td>\n",
       "    </tr>\n",
       "    <tr>\n",
       "      <th>19587</th>\n",
       "      <td>digestion</td>\n",
       "      <td>1</td>\n",
       "      <td>1</td>\n",
       "      <td>19589.0</td>\n",
       "      <td>0.000003</td>\n",
       "      <td>1.000000</td>\n",
       "      <td>0.000131</td>\n",
       "    </tr>\n",
       "  </tbody>\n",
       "</table>\n",
       "</div>"
      ],
      "text/plain": [
       "            word  appears_in  count     rank  pct_total  cul_pct_total  \\\n",
       "19584    roomier           1      1  19585.0   0.000003       0.999989   \n",
       "19583   windowed           1      1  19586.0   0.000003       0.999992   \n",
       "19586  actuality           1      1  19587.0   0.000003       0.999994   \n",
       "19585      crass           1      1  19588.0   0.000003       0.999997   \n",
       "19587  digestion           1      1  19589.0   0.000003       1.000000   \n",
       "\n",
       "       appears_in_pct  \n",
       "19584        0.000131  \n",
       "19583        0.000131  \n",
       "19586        0.000131  \n",
       "19585        0.000131  \n",
       "19587        0.000131  "
      ]
     },
     "execution_count": 152,
     "metadata": {},
     "output_type": "execute_result"
    }
   ],
   "source": [
    "wc.tail()"
   ]
  },
  {
   "cell_type": "markdown",
   "metadata": {},
   "source": [
    "## Can visualize the words with the greatest difference in counts between 'good' & 'bad'?\n",
    "\n",
    "Couple Notes: \n",
    "- Rel. freq. instead of absolute counts b/c of different numbers of reviews\n",
    "- Only look at the top 5-10 words with the greatest differences\n"
   ]
  },
  {
   "cell_type": "code",
   "execution_count": 161,
   "metadata": {},
   "outputs": [
    {
     "data": {
      "text/html": [
       "<div>\n",
       "<style scoped>\n",
       "    .dataframe tbody tr th:only-of-type {\n",
       "        vertical-align: middle;\n",
       "    }\n",
       "\n",
       "    .dataframe tbody tr th {\n",
       "        vertical-align: top;\n",
       "    }\n",
       "\n",
       "    .dataframe thead th {\n",
       "        text-align: right;\n",
       "    }\n",
       "</style>\n",
       "<table border=\"1\" class=\"dataframe\">\n",
       "  <thead>\n",
       "    <tr style=\"text-align: right;\">\n",
       "      <th></th>\n",
       "      <th>coffee_shop_name</th>\n",
       "      <th>full_review_text</th>\n",
       "      <th>star_rating</th>\n",
       "      <th>tokens</th>\n",
       "    </tr>\n",
       "  </thead>\n",
       "  <tbody>\n",
       "    <tr>\n",
       "      <th>0</th>\n",
       "      <td>the factory - cafe with a soul</td>\n",
       "      <td>11/25/2016 1 check-in love love loved the atm...</td>\n",
       "      <td>5.0 star rating</td>\n",
       "      <td>[11/25/2016, check, loved, atmosphere, corner,...</td>\n",
       "    </tr>\n",
       "    <tr>\n",
       "      <th>1</th>\n",
       "      <td>the factory - cafe with a soul</td>\n",
       "      <td>12/2/2016 listed in date night: austin, ambia...</td>\n",
       "      <td>4.0 star rating</td>\n",
       "      <td>[12/2/2016, listed, date, night, austin, ambia...</td>\n",
       "    </tr>\n",
       "  </tbody>\n",
       "</table>\n",
       "</div>"
      ],
      "text/plain": [
       "                  coffee_shop_name  \\\n",
       "0  the factory - cafe with a soul    \n",
       "1  the factory - cafe with a soul    \n",
       "\n",
       "                                    full_review_text        star_rating  \\\n",
       "0   11/25/2016 1 check-in love love loved the atm...   5.0 star rating    \n",
       "1   12/2/2016 listed in date night: austin, ambia...   4.0 star rating    \n",
       "\n",
       "                                              tokens  \n",
       "0  [11/25/2016, check, loved, atmosphere, corner,...  \n",
       "1  [12/2/2016, listed, date, night, austin, ambia...  "
      ]
     },
     "execution_count": 161,
     "metadata": {},
     "output_type": "execute_result"
    }
   ],
   "source": [
    "# Hint: a 'bad' coffee shops has a rating betweeen 1 & 3 based on the distribution of ratings. \n",
    "# A 'good' coffee shop is a 4 or 5\n",
    "\n",
    "shops.head(2)"
   ]
  },
  {
   "cell_type": "code",
   "execution_count": 181,
   "metadata": {},
   "outputs": [
    {
     "data": {
      "text/plain": [
       "dtype('O')"
      ]
     },
     "execution_count": 181,
     "metadata": {},
     "output_type": "execute_result"
    }
   ],
   "source": [
    "shops['star_rating'].dtypes"
   ]
  },
  {
   "cell_type": "code",
   "execution_count": 209,
   "metadata": {},
   "outputs": [],
   "source": [
    "good_shops = shops[(shops['star_rating']==' 5.0 star rating ') | (shops['star_rating']==' 4.0 star rating ')]"
   ]
  },
  {
   "cell_type": "code",
   "execution_count": 210,
   "metadata": {},
   "outputs": [],
   "source": [
    "bad_shops = shops[(shops['star_rating']==' 1.0 star rating ') | (shops['star_rating']==' 2.0 star rating ') | (shops['star_rating']==' 3.0 star rating ')]"
   ]
  },
  {
   "cell_type": "code",
   "execution_count": 213,
   "metadata": {},
   "outputs": [
    {
     "data": {
      "image/png": "[encoded data removed]",
      "text/plain": [
       "<Figure size 432x288 with 1 Axes>"
      ]
     },
     "metadata": {
      "needs_background": "light"
     },
     "output_type": "display_data"
    }
   ],
   "source": [
    "# pass tokens through count function\n",
    "wc_good = count(good_shops['tokens'])\n",
    "\n",
    "# sort and keep the top 20 words\n",
    "wc_top20_good = wc_good[wc_good['rank'] <= 20]\n",
    "\n",
    "# plot the stats\n",
    "squarify.plot(sizes=wc_top20_good['pct_total'], label=wc_top20_good['word'], alpha=.8 )\n",
    "plt.axis('off')\n",
    "plt.show()"
   ]
  },
  {
   "cell_type": "code",
   "execution_count": 214,
   "metadata": {},
   "outputs": [
    {
     "data": {
      "image/png": "[encoded data removed]",
      "text/plain": [
       "<Figure size 432x288 with 1 Axes>"
      ]
     },
     "metadata": {
      "needs_background": "light"
     },
     "output_type": "display_data"
    }
   ],
   "source": [
    "# pass tokens through count function\n",
    "wc_bad = count(bad_shops['tokens'])\n",
    "\n",
    "# sort and keep the top 20 words\n",
    "wc_top20_bad = wc_bad[wc_bad['rank'] <= 20]\n",
    "\n",
    "# plot the stats\n",
    "squarify.plot(sizes=wc_top20_bad['pct_total'], label=wc_top20_bad['word'], alpha=.8 )\n",
    "plt.axis('off')\n",
    "plt.show()"
   ]
  },
  {
   "cell_type": "code",
   "execution_count": 215,
   "metadata": {},
   "outputs": [
    {
     "data": {
      "text/html": [
       "<div>\n",
       "<style scoped>\n",
       "    .dataframe tbody tr th:only-of-type {\n",
       "        vertical-align: middle;\n",
       "    }\n",
       "\n",
       "    .dataframe tbody tr th {\n",
       "        vertical-align: top;\n",
       "    }\n",
       "\n",
       "    .dataframe thead th {\n",
       "        text-align: right;\n",
       "    }\n",
       "</style>\n",
       "<table border=\"1\" class=\"dataframe\">\n",
       "  <thead>\n",
       "    <tr style=\"text-align: right;\">\n",
       "      <th></th>\n",
       "      <th>word</th>\n",
       "      <th>appears_in</th>\n",
       "      <th>count</th>\n",
       "      <th>rank</th>\n",
       "      <th>pct_total</th>\n",
       "      <th>cul_pct_total</th>\n",
       "      <th>appears_in_pct</th>\n",
       "    </tr>\n",
       "  </thead>\n",
       "  <tbody>\n",
       "    <tr>\n",
       "      <th>11</th>\n",
       "      <td>coffee</td>\n",
       "      <td>947</td>\n",
       "      <td>2164</td>\n",
       "      <td>1.0</td>\n",
       "      <td>0.027333</td>\n",
       "      <td>0.027333</td>\n",
       "      <td>0.641599</td>\n",
       "    </tr>\n",
       "    <tr>\n",
       "      <th>9</th>\n",
       "      <td>place</td>\n",
       "      <td>721</td>\n",
       "      <td>1116</td>\n",
       "      <td>2.0</td>\n",
       "      <td>0.014096</td>\n",
       "      <td>0.041428</td>\n",
       "      <td>0.488482</td>\n",
       "    </tr>\n",
       "    <tr>\n",
       "      <th>20</th>\n",
       "      <td>like</td>\n",
       "      <td>569</td>\n",
       "      <td>886</td>\n",
       "      <td>3.0</td>\n",
       "      <td>0.011191</td>\n",
       "      <td>0.052619</td>\n",
       "      <td>0.385501</td>\n",
       "    </tr>\n",
       "    <tr>\n",
       "      <th>7</th>\n",
       "      <td>good</td>\n",
       "      <td>596</td>\n",
       "      <td>880</td>\n",
       "      <td>4.0</td>\n",
       "      <td>0.011115</td>\n",
       "      <td>0.063734</td>\n",
       "      <td>0.403794</td>\n",
       "    </tr>\n",
       "    <tr>\n",
       "      <th>57</th>\n",
       "      <td>check</td>\n",
       "      <td>475</td>\n",
       "      <td>505</td>\n",
       "      <td>5.0</td>\n",
       "      <td>0.006378</td>\n",
       "      <td>0.070112</td>\n",
       "      <td>0.321816</td>\n",
       "    </tr>\n",
       "  </tbody>\n",
       "</table>\n",
       "</div>"
      ],
      "text/plain": [
       "      word  appears_in  count  rank  pct_total  cul_pct_total  appears_in_pct\n",
       "11  coffee         947   2164   1.0   0.027333       0.027333        0.641599\n",
       "9    place         721   1116   2.0   0.014096       0.041428        0.488482\n",
       "20    like         569    886   3.0   0.011191       0.052619        0.385501\n",
       "7     good         596    880   4.0   0.011115       0.063734        0.403794\n",
       "57   check         475    505   5.0   0.006378       0.070112        0.321816"
      ]
     },
     "execution_count": 215,
     "metadata": {},
     "output_type": "execute_result"
    }
   ],
   "source": [
    "wc_bad.head()"
   ]
  },
  {
   "cell_type": "code",
   "execution_count": 216,
   "metadata": {},
   "outputs": [
    {
     "data": {
      "text/html": [
       "<div>\n",
       "<style scoped>\n",
       "    .dataframe tbody tr th:only-of-type {\n",
       "        vertical-align: middle;\n",
       "    }\n",
       "\n",
       "    .dataframe tbody tr th {\n",
       "        vertical-align: top;\n",
       "    }\n",
       "\n",
       "    .dataframe thead th {\n",
       "        text-align: right;\n",
       "    }\n",
       "</style>\n",
       "<table border=\"1\" class=\"dataframe\">\n",
       "  <thead>\n",
       "    <tr style=\"text-align: right;\">\n",
       "      <th></th>\n",
       "      <th>word</th>\n",
       "      <th>appears_in</th>\n",
       "      <th>count</th>\n",
       "      <th>rank</th>\n",
       "      <th>pct_total</th>\n",
       "      <th>cul_pct_total</th>\n",
       "      <th>appears_in_pct</th>\n",
       "    </tr>\n",
       "  </thead>\n",
       "  <tbody>\n",
       "    <tr>\n",
       "      <th>10</th>\n",
       "      <td>coffee</td>\n",
       "      <td>3964</td>\n",
       "      <td>8375</td>\n",
       "      <td>1.0</td>\n",
       "      <td>0.029927</td>\n",
       "      <td>0.029927</td>\n",
       "      <td>0.645603</td>\n",
       "    </tr>\n",
       "    <tr>\n",
       "      <th>97</th>\n",
       "      <td>place</td>\n",
       "      <td>2944</td>\n",
       "      <td>4328</td>\n",
       "      <td>2.0</td>\n",
       "      <td>0.015465</td>\n",
       "      <td>0.045392</td>\n",
       "      <td>0.479479</td>\n",
       "    </tr>\n",
       "    <tr>\n",
       "      <th>187</th>\n",
       "      <td>good</td>\n",
       "      <td>2196</td>\n",
       "      <td>3106</td>\n",
       "      <td>3.0</td>\n",
       "      <td>0.011099</td>\n",
       "      <td>0.056491</td>\n",
       "      <td>0.357655</td>\n",
       "    </tr>\n",
       "    <tr>\n",
       "      <th>25</th>\n",
       "      <td>check</td>\n",
       "      <td>2654</td>\n",
       "      <td>2852</td>\n",
       "      <td>4.0</td>\n",
       "      <td>0.010191</td>\n",
       "      <td>0.066682</td>\n",
       "      <td>0.432248</td>\n",
       "    </tr>\n",
       "    <tr>\n",
       "      <th>200</th>\n",
       "      <td>like</td>\n",
       "      <td>1573</td>\n",
       "      <td>2239</td>\n",
       "      <td>5.0</td>\n",
       "      <td>0.008001</td>\n",
       "      <td>0.074683</td>\n",
       "      <td>0.256189</td>\n",
       "    </tr>\n",
       "  </tbody>\n",
       "</table>\n",
       "</div>"
      ],
      "text/plain": [
       "       word  appears_in  count  rank  pct_total  cul_pct_total  appears_in_pct\n",
       "10   coffee        3964   8375   1.0   0.029927       0.029927        0.645603\n",
       "97    place        2944   4328   2.0   0.015465       0.045392        0.479479\n",
       "187    good        2196   3106   3.0   0.011099       0.056491        0.357655\n",
       "25    check        2654   2852   4.0   0.010191       0.066682        0.432248\n",
       "200    like        1573   2239   5.0   0.008001       0.074683        0.256189"
      ]
     },
     "execution_count": 216,
     "metadata": {},
     "output_type": "execute_result"
    }
   ],
   "source": [
    "wc_good.head()"
   ]
  },
  {
   "cell_type": "code",
   "execution_count": 220,
   "metadata": {},
   "outputs": [
    {
     "data": {
      "text/html": [
       "<div>\n",
       "<style scoped>\n",
       "    .dataframe tbody tr th:only-of-type {\n",
       "        vertical-align: middle;\n",
       "    }\n",
       "\n",
       "    .dataframe tbody tr th {\n",
       "        vertical-align: top;\n",
       "    }\n",
       "\n",
       "    .dataframe thead th {\n",
       "        text-align: right;\n",
       "    }\n",
       "</style>\n",
       "<table border=\"1\" class=\"dataframe\">\n",
       "  <thead>\n",
       "    <tr style=\"text-align: right;\">\n",
       "      <th></th>\n",
       "      <th>word</th>\n",
       "      <th>appears_in_x</th>\n",
       "      <th>count_x</th>\n",
       "      <th>rank_x</th>\n",
       "      <th>pct_total_x</th>\n",
       "      <th>cul_pct_total_x</th>\n",
       "      <th>appears_in_pct_x</th>\n",
       "      <th>appears_in_y</th>\n",
       "      <th>count_y</th>\n",
       "      <th>rank_y</th>\n",
       "      <th>pct_total_y</th>\n",
       "      <th>cul_pct_total_y</th>\n",
       "      <th>appears_in_pct_y</th>\n",
       "    </tr>\n",
       "  </thead>\n",
       "  <tbody>\n",
       "    <tr>\n",
       "      <th>0</th>\n",
       "      <td>coffee</td>\n",
       "      <td>947.0</td>\n",
       "      <td>2164.0</td>\n",
       "      <td>1.0</td>\n",
       "      <td>0.027333</td>\n",
       "      <td>0.027333</td>\n",
       "      <td>0.641599</td>\n",
       "      <td>3964.0</td>\n",
       "      <td>8375.0</td>\n",
       "      <td>1.0</td>\n",
       "      <td>0.029927</td>\n",
       "      <td>0.029927</td>\n",
       "      <td>0.645603</td>\n",
       "    </tr>\n",
       "    <tr>\n",
       "      <th>1</th>\n",
       "      <td>place</td>\n",
       "      <td>721.0</td>\n",
       "      <td>1116.0</td>\n",
       "      <td>2.0</td>\n",
       "      <td>0.014096</td>\n",
       "      <td>0.041428</td>\n",
       "      <td>0.488482</td>\n",
       "      <td>2944.0</td>\n",
       "      <td>4328.0</td>\n",
       "      <td>2.0</td>\n",
       "      <td>0.015465</td>\n",
       "      <td>0.045392</td>\n",
       "      <td>0.479479</td>\n",
       "    </tr>\n",
       "    <tr>\n",
       "      <th>2</th>\n",
       "      <td>like</td>\n",
       "      <td>569.0</td>\n",
       "      <td>886.0</td>\n",
       "      <td>3.0</td>\n",
       "      <td>0.011191</td>\n",
       "      <td>0.052619</td>\n",
       "      <td>0.385501</td>\n",
       "      <td>1573.0</td>\n",
       "      <td>2239.0</td>\n",
       "      <td>5.0</td>\n",
       "      <td>0.008001</td>\n",
       "      <td>0.074683</td>\n",
       "      <td>0.256189</td>\n",
       "    </tr>\n",
       "    <tr>\n",
       "      <th>3</th>\n",
       "      <td>good</td>\n",
       "      <td>596.0</td>\n",
       "      <td>880.0</td>\n",
       "      <td>4.0</td>\n",
       "      <td>0.011115</td>\n",
       "      <td>0.063734</td>\n",
       "      <td>0.403794</td>\n",
       "      <td>2196.0</td>\n",
       "      <td>3106.0</td>\n",
       "      <td>3.0</td>\n",
       "      <td>0.011099</td>\n",
       "      <td>0.056491</td>\n",
       "      <td>0.357655</td>\n",
       "    </tr>\n",
       "    <tr>\n",
       "      <th>4</th>\n",
       "      <td>check</td>\n",
       "      <td>475.0</td>\n",
       "      <td>505.0</td>\n",
       "      <td>5.0</td>\n",
       "      <td>0.006378</td>\n",
       "      <td>0.070112</td>\n",
       "      <td>0.321816</td>\n",
       "      <td>2654.0</td>\n",
       "      <td>2852.0</td>\n",
       "      <td>4.0</td>\n",
       "      <td>0.010191</td>\n",
       "      <td>0.066682</td>\n",
       "      <td>0.432248</td>\n",
       "    </tr>\n",
       "  </tbody>\n",
       "</table>\n",
       "</div>"
      ],
      "text/plain": [
       "     word  appears_in_x  count_x  rank_x  pct_total_x  cul_pct_total_x  \\\n",
       "0  coffee         947.0   2164.0     1.0     0.027333         0.027333   \n",
       "1   place         721.0   1116.0     2.0     0.014096         0.041428   \n",
       "2    like         569.0    886.0     3.0     0.011191         0.052619   \n",
       "3    good         596.0    880.0     4.0     0.011115         0.063734   \n",
       "4   check         475.0    505.0     5.0     0.006378         0.070112   \n",
       "\n",
       "   appears_in_pct_x  appears_in_y  count_y  rank_y  pct_total_y  \\\n",
       "0          0.641599        3964.0   8375.0     1.0     0.029927   \n",
       "1          0.488482        2944.0   4328.0     2.0     0.015465   \n",
       "2          0.385501        1573.0   2239.0     5.0     0.008001   \n",
       "3          0.403794        2196.0   3106.0     3.0     0.011099   \n",
       "4          0.321816        2654.0   2852.0     4.0     0.010191   \n",
       "\n",
       "   cul_pct_total_y  appears_in_pct_y  \n",
       "0         0.029927          0.645603  \n",
       "1         0.045392          0.479479  \n",
       "2         0.074683          0.256189  \n",
       "3         0.056491          0.357655  \n",
       "4         0.066682          0.432248  "
      ]
     },
     "execution_count": 220,
     "metadata": {},
     "output_type": "execute_result"
    }
   ],
   "source": [
    "bad_good = wc_bad.merge(wc_good, how = 'outer', on = 'word')\n",
    "bad_good.head()"
   ]
  },
  {
   "cell_type": "code",
   "execution_count": 230,
   "metadata": {},
   "outputs": [
    {
     "data": {
      "text/html": [
       "<div>\n",
       "<style scoped>\n",
       "    .dataframe tbody tr th:only-of-type {\n",
       "        vertical-align: middle;\n",
       "    }\n",
       "\n",
       "    .dataframe tbody tr th {\n",
       "        vertical-align: top;\n",
       "    }\n",
       "\n",
       "    .dataframe thead th {\n",
       "        text-align: right;\n",
       "    }\n",
       "</style>\n",
       "<table border=\"1\" class=\"dataframe\">\n",
       "  <thead>\n",
       "    <tr style=\"text-align: right;\">\n",
       "      <th></th>\n",
       "      <th>word</th>\n",
       "      <th>appears_in_x</th>\n",
       "      <th>count_x</th>\n",
       "      <th>rank_x</th>\n",
       "      <th>pct_total_x</th>\n",
       "      <th>cul_pct_total_x</th>\n",
       "      <th>appears_in_pct_x</th>\n",
       "      <th>appears_in_y</th>\n",
       "      <th>count_y</th>\n",
       "      <th>rank_y</th>\n",
       "      <th>pct_total_y</th>\n",
       "      <th>cul_pct_total_y</th>\n",
       "      <th>appears_in_pct_y</th>\n",
       "    </tr>\n",
       "  </thead>\n",
       "  <tbody>\n",
       "  </tbody>\n",
       "</table>\n",
       "</div>"
      ],
      "text/plain": [
       "Empty DataFrame\n",
       "Columns: [word, appears_in_x, count_x, rank_x, pct_total_x, cul_pct_total_x, appears_in_pct_x, appears_in_y, count_y, rank_y, pct_total_y, cul_pct_total_y, appears_in_pct_y]\n",
       "Index: []"
      ]
     },
     "execution_count": 230,
     "metadata": {},
     "output_type": "execute_result"
    }
   ],
   "source": [
    "# looked at all the empty cells\n",
    "bad_good[bad_good.isna().any(axis=1)]"
   ]
  },
  {
   "cell_type": "code",
   "execution_count": 229,
   "metadata": {},
   "outputs": [],
   "source": [
    "# filled empty cells with zeros\n",
    "bad_good = bad_good.fillna(0)"
   ]
  },
  {
   "cell_type": "code",
   "execution_count": 231,
   "metadata": {},
   "outputs": [],
   "source": [
    "bad_good['difference']=abs(bad_good['appears_in_pct_x'] - bad_good['appears_in_pct_y'])"
   ]
  },
  {
   "cell_type": "code",
   "execution_count": 248,
   "metadata": {
    "scrolled": true
   },
   "outputs": [],
   "source": [
    "bad_good = bad_good.sort_values(by=['difference'], ascending=False)\n",
    "bad_good = bad_good.head(10)"
   ]
  },
  {
   "cell_type": "code",
   "execution_count": 251,
   "metadata": {},
   "outputs": [
    {
     "data": {
      "image/png": "[encoded data removed]",
      "text/plain": [
       "<Figure size 432x288 with 1 Axes>"
      ]
     },
     "metadata": {
      "needs_background": "light"
     },
     "output_type": "display_data"
    }
   ],
   "source": [
    "ax = sns.barplot(x=\"word\", y=\"difference\", data=bad_good)"
   ]
  },
  {
   "cell_type": "markdown",
   "metadata": {
    "colab_type": "text",
    "id": "1dCb1q8XphcP",
    "toc-hr-collapsed": true
   },
   "source": [
    "## Stretch Goals\n",
    "\n",
    "* Analyze another corpus of documents - such as Indeed.com job listings ;).\n",
    "* Play with the Spacy API to\n",
    " - Extract Named Entities\n",
    " - Extracting 'noun chunks'\n",
    " - Attempt Document Classification with just Spacy\n",
    " - *Note:* This [course](https://course.spacy.io/) will be of interesting in helping you with these stretch goals. \n",
    "* Try to build a plotly dash app with your text data \n",
    "\n"
   ]
  },
  {
   "cell_type": "code",
   "execution_count": null,
   "metadata": {},
   "outputs": [],
   "source": []
  }
 ],
 "metadata": {
  "colab": {
   "collapsed_sections": [],
   "name": "LS_DS_421_Text_Data_Assignment.ipynb",
   "provenance": [],
   "version": "0.3.2"
  },
  "kernelspec": {
   "display_name": "Python 3",
   "language": "python",
   "name": "python3"
  },
  "toc-autonumbering": false
 },
 "nbformat": 4,
 "nbformat_minor": 4
}
